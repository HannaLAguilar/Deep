{
 "cells": [
  {
   "cell_type": "markdown",
   "metadata": {},
   "source": [
    "# Classifying Fashion-MNIST\n",
    "\n",
    "\n",
    "Fashion-MNIST is a set of 28x28 greyscale images of clothes. It's more complex than MNIST, so it's a better representation of the actual performance of your network, and a better representation of datasets you'll use in the real world.\n",
    "\n",
    "<img src='assets/fashion-mnist-sprite.png' width=500px>"
   ]
  },
  {
   "cell_type": "code",
   "execution_count": 1,
   "metadata": {},
   "outputs": [],
   "source": [
    "import numpy as np\n",
    "import torch\n",
    "import matplotlib.pyplot as plt\n",
    "%matplotlib inline"
   ]
  },
  {
   "cell_type": "markdown",
   "metadata": {},
   "source": [
    "## Load Data"
   ]
  },
  {
   "cell_type": "code",
   "execution_count": 2,
   "metadata": {},
   "outputs": [],
   "source": [
    "from torchvision import datasets, transforms\n",
    "\n",
    "# Define a transform to normalize the data\n",
    "transform = transforms.Compose([transforms.ToTensor(), transforms.Normalize((0.5,), (0.5,))])\n",
    "\n",
    "# Download and load the training data\n",
    "trainset = datasets.FashionMNIST('~/.pytorch/F_MNIST_data/', download = True, train = True, transform = transform)\n",
    "trainloader = torch.utils.data.DataLoader(trainset, batch_size = 64, shuffle = True)\n",
    "\n",
    "# Download and load the test data\n",
    "testset = datasets.FashionMNIST('~/.pytorch/F_MNIST_data/', download = True, train = False, transform = transform)\n",
    "testloader = torch.utils.data.DataLoader(testset, batch_size = 64, shuffle = True)"
   ]
  },
  {
   "cell_type": "markdown",
   "metadata": {},
   "source": [
    "Trainset have 60,000 images and testset have 10,000 images. Let's check:"
   ]
  },
  {
   "cell_type": "code",
   "execution_count": 3,
   "metadata": {},
   "outputs": [
    {
     "name": "stdout",
     "output_type": "stream",
     "text": [
      "torch.Size([64, 1, 28, 28])\n",
      "torch.Size([64])\n"
     ]
    }
   ],
   "source": [
    "# Get one batch\n",
    "images, labels = next(iter(trainloader))\n",
    "print(images.shape)\n",
    "print(labels.shape)"
   ]
  },
  {
   "cell_type": "markdown",
   "metadata": {},
   "source": [
    "**Visualization**"
   ]
  },
  {
   "cell_type": "code",
   "execution_count": 4,
   "metadata": {},
   "outputs": [
    {
     "data": {
      "text/plain": [
       "<matplotlib.axes._subplots.AxesSubplot at 0x2a892736708>"
      ]
     },
     "execution_count": 4,
     "metadata": {},
     "output_type": "execute_result"
    },
    {
     "data": {
      "image/png": "[encoded data removed]",
      "text/plain": [
       "<Figure size 432x288 with 1 Axes>"
      ]
     },
     "metadata": {
      "needs_background": "light"
     },
     "output_type": "display_data"
    }
   ],
   "source": [
    "import helper\n",
    "helper.imshow(images[0])"
   ]
  },
  {
   "cell_type": "markdown",
   "metadata": {},
   "source": [
    "**Some observation**\n"
   ]
  },
  {
   "cell_type": "code",
   "execution_count": 5,
   "metadata": {},
   "outputs": [
    {
     "data": {
      "text/plain": [
       "938"
      ]
     },
     "execution_count": 5,
     "metadata": {},
     "output_type": "execute_result"
    }
   ],
   "source": [
    "# 60,0000/64\n",
    "len(trainloader)"
   ]
  },
  {
   "cell_type": "code",
   "execution_count": 6,
   "metadata": {},
   "outputs": [
    {
     "data": {
      "text/plain": [
       "torch.Size([64, 784])"
      ]
     },
     "execution_count": 6,
     "metadata": {},
     "output_type": "execute_result"
    }
   ],
   "source": [
    "# transform [61, 1, 28, 28] into [64, 1x28x28]\n",
    "festures = images.view(images.shape[0], -1) # images.view(64, -1)\n",
    "festures.shape"
   ]
  },
  {
   "cell_type": "markdown",
   "metadata": {},
   "source": [
    "## Neural Network Arquiecture"
   ]
  },
  {
   "cell_type": "code",
   "execution_count": 7,
   "metadata": {},
   "outputs": [],
   "source": [
    "import torch.nn.functional as F\n",
    "from torch import nn\n",
    "\n",
    "class Classifier(nn.Module):\n",
    "    def __init__(self):\n",
    "        super().__init__()\n",
    "        \n",
    "        self.fc1 = nn.Linear(784, 256)\n",
    "        self.fc2 = nn.Linear(256, 128)\n",
    "        self.fc3 = nn.Linear(128, 64)\n",
    "        self.fc4 = nn.Linear(64, 10)\n",
    "        \n",
    "        \n",
    "    def forward(self, x):\n",
    "        \n",
    "        # Flatten images\n",
    "        x = x.view(x.shape[0], -1)\n",
    "        \n",
    "        x = F.relu(self.fc1(x))\n",
    "        x = F.relu(self.fc2(x))\n",
    "        x = F.relu(self.fc3(x))\n",
    "        x = F.log_softmax(self.fc4(x), dim=1)  \n",
    "        \n",
    "        return x"
   ]
  },
  {
   "cell_type": "code",
   "execution_count": 8,
   "metadata": {},
   "outputs": [
    {
     "data": {
      "text/plain": [
       "Classifier(\n",
       "  (fc1): Linear(in_features=784, out_features=256, bias=True)\n",
       "  (fc2): Linear(in_features=256, out_features=128, bias=True)\n",
       "  (fc3): Linear(in_features=128, out_features=64, bias=True)\n",
       "  (fc4): Linear(in_features=64, out_features=10, bias=True)\n",
       ")"
      ]
     },
     "execution_count": 8,
     "metadata": {},
     "output_type": "execute_result"
    }
   ],
   "source": [
    "model = Classifier()\n",
    "model"
   ]
  },
  {
   "cell_type": "markdown",
   "metadata": {},
   "source": [
    "## Training the Network"
   ]
  },
  {
   "cell_type": "code",
   "execution_count": 9,
   "metadata": {},
   "outputs": [],
   "source": [
    "from torch import optim\n",
    "\n",
    "criterion = nn.NLLLoss()\n",
    "optimizer=optim.Adam(model.parameters(),lr=0.003)"
   ]
  },
  {
   "cell_type": "code",
   "execution_count": 10,
   "metadata": {},
   "outputs": [
    {
     "name": "stdout",
     "output_type": "stream",
     "text": [
      "Epoch: 1 Train loss: 0.5212625833843817\n",
      "Epoch: 2 Train loss: 0.38993671572983646\n",
      "Epoch: 3 Train loss: 0.35915641125235986\n",
      "Epoch: 4 Train loss: 0.33325360997367515\n",
      "Epoch: 5 Train loss: 0.31652371256924006\n"
     ]
    }
   ],
   "source": [
    "epochs = 5\n",
    "\n",
    "for epoch in range(epochs):\n",
    "    train_loss = 0\n",
    "    for images, labels in trainloader:\n",
    "        \n",
    "        optimizer.zero_grad() # clear the gradients, do this because gradients are accumulated\n",
    "        \n",
    "        logps = model(images)\n",
    "        loss = criterion(logps, labels)\n",
    "        loss.backward() #activate gradients\n",
    "        optimizer.step() # update new weights\n",
    "        train_loss += loss.item()\n",
    "        \n",
    "    print('Epoch: {} Train loss: {}' .format(epoch + 1, train_loss/len(trainloader)))"
   ]
  },
  {
   "cell_type": "code",
   "execution_count": 11,
   "metadata": {},
   "outputs": [
    {
     "data": {
      "image/png": "[encoded data removed]",
      "text/plain": [
       "<Figure size 432x648 with 2 Axes>"
      ]
     },
     "metadata": {
      "needs_background": "light"
     },
     "output_type": "display_data"
    }
   ],
   "source": [
    "# Test the network\n",
    "img = images[0]\n",
    "\n",
    "with torch.no_grad():\n",
    "    logps = model(img)\n",
    "\n",
    "ps = torch.exp(logps)\n",
    "helper.view_classify(img.view(1, 28, 28), ps, version ='Fashion')"
   ]
  },
  {
   "cell_type": "markdown",
   "metadata": {},
   "source": [
    "## Testing and Inference "
   ]
  },
  {
   "cell_type": "code",
   "execution_count": 12,
   "metadata": {},
   "outputs": [
    {
     "name": "stdout",
     "output_type": "stream",
     "text": [
      "Epoch: 1/30  Training Loss: 0.518  Test Loss: 0.433  Test Accuracy: 0.844\n",
      "Epoch: 2/30  Training Loss: 0.390  Test Loss: 0.459  Test Accuracy: 0.832\n",
      "Epoch: 3/30  Training Loss: 0.354  Test Loss: 0.403  Test Accuracy: 0.853\n",
      "Epoch: 4/30  Training Loss: 0.334  Test Loss: 0.422  Test Accuracy: 0.848\n",
      "Epoch: 5/30  Training Loss: 0.319  Test Loss: 0.369  Test Accuracy: 0.872\n",
      "Epoch: 6/30  Training Loss: 0.304  Test Loss: 0.386  Test Accuracy: 0.871\n",
      "Epoch: 7/30  Training Loss: 0.292  Test Loss: 0.361  Test Accuracy: 0.878\n",
      "Epoch: 8/30  Training Loss: 0.278  Test Loss: 0.382  Test Accuracy: 0.870\n",
      "Epoch: 9/30  Training Loss: 0.272  Test Loss: 0.369  Test Accuracy: 0.873\n",
      "Epoch: 10/30  Training Loss: 0.269  Test Loss: 0.362  Test Accuracy: 0.878\n",
      "Epoch: 11/30  Training Loss: 0.260  Test Loss: 0.362  Test Accuracy: 0.877\n",
      "Epoch: 12/30  Training Loss: 0.255  Test Loss: 0.364  Test Accuracy: 0.876\n",
      "Epoch: 13/30  Training Loss: 0.248  Test Loss: 0.377  Test Accuracy: 0.877\n",
      "Epoch: 14/30  Training Loss: 0.238  Test Loss: 0.367  Test Accuracy: 0.884\n",
      "Epoch: 15/30  Training Loss: 0.240  Test Loss: 0.409  Test Accuracy: 0.873\n",
      "Epoch: 16/30  Training Loss: 0.234  Test Loss: 0.362  Test Accuracy: 0.885\n",
      "Epoch: 17/30  Training Loss: 0.230  Test Loss: 0.386  Test Accuracy: 0.880\n",
      "Epoch: 18/30  Training Loss: 0.225  Test Loss: 0.392  Test Accuracy: 0.882\n",
      "Epoch: 19/30  Training Loss: 0.216  Test Loss: 0.390  Test Accuracy: 0.881\n",
      "Epoch: 20/30  Training Loss: 0.221  Test Loss: 0.373  Test Accuracy: 0.885\n",
      "Epoch: 21/30  Training Loss: 0.214  Test Loss: 0.422  Test Accuracy: 0.877\n",
      "Epoch: 22/30  Training Loss: 0.211  Test Loss: 0.403  Test Accuracy: 0.878\n",
      "Epoch: 23/30  Training Loss: 0.203  Test Loss: 0.396  Test Accuracy: 0.881\n",
      "Epoch: 24/30  Training Loss: 0.203  Test Loss: 0.387  Test Accuracy: 0.884\n",
      "Epoch: 25/30  Training Loss: 0.207  Test Loss: 0.408  Test Accuracy: 0.884\n",
      "Epoch: 26/30  Training Loss: 0.196  Test Loss: 0.430  Test Accuracy: 0.874\n",
      "Epoch: 27/30  Training Loss: 0.198  Test Loss: 0.455  Test Accuracy: 0.868\n",
      "Epoch: 28/30  Training Loss: 0.191  Test Loss: 0.414  Test Accuracy: 0.884\n",
      "Epoch: 29/30  Training Loss: 0.200  Test Loss: 0.412  Test Accuracy: 0.879\n",
      "Epoch: 30/30  Training Loss: 0.183  Test Loss: 0.483  Test Accuracy: 0.876\n"
     ]
    }
   ],
   "source": [
    "model = Classifier()\n",
    "criterion = nn.NLLLoss()\n",
    "optimizer = optim.Adam(model.parameters(), lr=0.003)\n",
    "\n",
    "epochs = 30 \n",
    "\n",
    "train_losses, test_losses = [], []\n",
    "for epoch in range(epochs):\n",
    "    train_loss = 0\n",
    "    \n",
    "    # Train\n",
    "    for images, labels in trainloader:\n",
    "        \n",
    "        optimizer.zero_grad()\n",
    "        \n",
    "        logps = model(images)\n",
    "        loss = criterion(logps, labels)\n",
    "        loss.backward()\n",
    "        optimizer.step()\n",
    "        \n",
    "        train_loss += loss.item()\n",
    "      \n",
    "    else:\n",
    "        test_loss = 0\n",
    "        accuracy = 0\n",
    "           \n",
    "        # Test\n",
    "        with torch.no_grad():\n",
    "            for images, labels in testloader:\n",
    "                logps = model(images)\n",
    "                loss = criterion(logps, labels)\n",
    "                test_loss += loss.item()\n",
    "                \n",
    "                ps = torch.exp(logps)\n",
    "                _, top_class = ps.topk(1, dim=1)\n",
    "                equals = top_class.squeeze() == labels\n",
    "                accuracy += torch.mean(equals.type(torch.FloatTensor))\n",
    "                \n",
    "        train_losses.append(train_loss/len(trainloader))\n",
    "        test_losses.append(test_loss/len(testloader))\n",
    "        \n",
    "        print(\"Epoch: {}/{} \".format(epoch+1, epochs),\n",
    "              \"Training Loss: {:.3f} \".format(train_loss/len(trainloader)),\n",
    "              \"Test Loss: {:.3f} \".format(test_loss/len(testloader)),\n",
    "              \"Test Accuracy: {:.3f}\".format(accuracy/len(testloader)))"
   ]
  },
  {
   "cell_type": "code",
   "execution_count": 13,
   "metadata": {},
   "outputs": [
    {
     "data": {
      "image/png": "[encoded data removed]",
      "text/plain": [
       "<Figure size 432x288 with 1 Axes>"
      ]
     },
     "metadata": {
      "needs_background": "light"
     },
     "output_type": "display_data"
    }
   ],
   "source": [
    "plt.plot(train_losses, label = 'Training loss')\n",
    "plt.plot(test_losses, label = 'Validation loss')\n",
    "plt.legend(frameon=False)\n",
    "plt.show()"
   ]
  },
  {
   "cell_type": "markdown",
   "metadata": {},
   "source": [
    "### Inference"
   ]
  },
  {
   "cell_type": "code",
   "execution_count": 14,
   "metadata": {},
   "outputs": [
    {
     "data": {
      "image/png": "[encoded data removed]",
      "text/plain": [
       "<Figure size 432x648 with 2 Axes>"
      ]
     },
     "metadata": {
      "needs_background": "light"
     },
     "output_type": "display_data"
    }
   ],
   "source": [
    "img = images[1]\n",
    "with torch.no_grad():\n",
    "    logps = model(img)\n",
    "\n",
    "ps = torch.exp(logps)\n",
    "helper.view_classify(img.view(1, 28, 28), ps, version ='Fashion')"
   ]
  },
  {
   "cell_type": "markdown",
   "metadata": {},
   "source": [
    "## Overfitting\n",
    "\n",
    "The network learns the training set better and better, resulting in lower training losses. However, it starts having problems generalizing to data outside the training set leading to the validation loss increasing. \n",
    "\n",
    "The most common method to reduce overfitting (outside of early-stopping) is *dropout*, where we randomly drop input units. This forces the network to share information between weights, increasing it's ability to generalize to new data."
   ]
  },
  {
   "cell_type": "markdown",
   "metadata": {},
   "source": [
    "### Dropout"
   ]
  },
  {
   "cell_type": "code",
   "execution_count": 15,
   "metadata": {},
   "outputs": [],
   "source": [
    "class Classifier(nn.Module):\n",
    "    def __init__(self):\n",
    "        super().__init__()\n",
    "        \n",
    "        self.fc1 = nn.Linear(784, 256)\n",
    "        self.fc2 = nn.Linear(256, 128)\n",
    "        self.fc3 = nn.Linear(128, 64)\n",
    "        self.fc4 = nn.Linear(64, 10)\n",
    "        \n",
    "        # Dropout module with 0.2 drop probability\n",
    "        self.dropout = nn.Dropout(p=0.2)\n",
    "        \n",
    "        \n",
    "    def forward(self, x):\n",
    "        \n",
    "        # Flatten images\n",
    "        x = x.view(x.shape[0], -1)\n",
    "        \n",
    "        # Now with dropout\n",
    "        x = self.dropout(F.relu(self.fc1(x)))\n",
    "        x = self.dropout(F.relu(self.fc2(x)))\n",
    "        x = self.dropout(F.relu(self.fc3(x)))\n",
    "        \n",
    "        # output so no dropout here\n",
    "        x = F.log_softmax(self.fc4(x), dim=1)  \n",
    "        \n",
    "        return x\n",
    "    "
   ]
  },
  {
   "cell_type": "markdown",
   "metadata": {},
   "source": [
    "**Training and testing**"
   ]
  },
  {
   "cell_type": "code",
   "execution_count": 16,
   "metadata": {},
   "outputs": [
    {
     "name": "stdout",
     "output_type": "stream",
     "text": [
      "Epoch: 1/30  Training Loss: 0.605  Test Loss: 0.464  Test Accuracy: 0.833\n",
      "Epoch: 2/30  Training Loss: 0.479  Test Loss: 0.428  Test Accuracy: 0.847\n",
      "Epoch: 3/30  Training Loss: 0.453  Test Loss: 0.438  Test Accuracy: 0.850\n",
      "Epoch: 4/30  Training Loss: 0.431  Test Loss: 0.406  Test Accuracy: 0.855\n",
      "Epoch: 5/30  Training Loss: 0.419  Test Loss: 0.420  Test Accuracy: 0.854\n",
      "Epoch: 6/30  Training Loss: 0.407  Test Loss: 0.396  Test Accuracy: 0.861\n",
      "Epoch: 7/30  Training Loss: 0.402  Test Loss: 0.386  Test Accuracy: 0.862\n",
      "Epoch: 8/30  Training Loss: 0.400  Test Loss: 0.389  Test Accuracy: 0.861\n",
      "Epoch: 9/30  Training Loss: 0.389  Test Loss: 0.389  Test Accuracy: 0.860\n",
      "Epoch: 10/30  Training Loss: 0.388  Test Loss: 0.397  Test Accuracy: 0.861\n",
      "Epoch: 11/30  Training Loss: 0.391  Test Loss: 0.399  Test Accuracy: 0.863\n",
      "Epoch: 12/30  Training Loss: 0.376  Test Loss: 0.376  Test Accuracy: 0.865\n",
      "Epoch: 13/30  Training Loss: 0.372  Test Loss: 0.395  Test Accuracy: 0.860\n",
      "Epoch: 14/30  Training Loss: 0.372  Test Loss: 0.394  Test Accuracy: 0.857\n",
      "Epoch: 15/30  Training Loss: 0.374  Test Loss: 0.403  Test Accuracy: 0.861\n",
      "Epoch: 16/30  Training Loss: 0.369  Test Loss: 0.379  Test Accuracy: 0.866\n",
      "Epoch: 17/30  Training Loss: 0.365  Test Loss: 0.374  Test Accuracy: 0.874\n",
      "Epoch: 18/30  Training Loss: 0.368  Test Loss: 0.383  Test Accuracy: 0.866\n",
      "Epoch: 19/30  Training Loss: 0.358  Test Loss: 0.366  Test Accuracy: 0.875\n",
      "Epoch: 20/30  Training Loss: 0.361  Test Loss: 0.384  Test Accuracy: 0.863\n",
      "Epoch: 21/30  Training Loss: 0.356  Test Loss: 0.388  Test Accuracy: 0.869\n",
      "Epoch: 22/30  Training Loss: 0.351  Test Loss: 0.374  Test Accuracy: 0.872\n",
      "Epoch: 23/30  Training Loss: 0.353  Test Loss: 0.381  Test Accuracy: 0.869\n",
      "Epoch: 24/30  Training Loss: 0.346  Test Loss: 0.400  Test Accuracy: 0.862\n",
      "Epoch: 25/30  Training Loss: 0.345  Test Loss: 0.382  Test Accuracy: 0.867\n",
      "Epoch: 26/30  Training Loss: 0.343  Test Loss: 0.389  Test Accuracy: 0.867\n",
      "Epoch: 27/30  Training Loss: 0.346  Test Loss: 0.376  Test Accuracy: 0.873\n",
      "Epoch: 28/30  Training Loss: 0.336  Test Loss: 0.374  Test Accuracy: 0.874\n",
      "Epoch: 29/30  Training Loss: 0.344  Test Loss: 0.368  Test Accuracy: 0.876\n",
      "Epoch: 30/30  Training Loss: 0.337  Test Loss: 0.371  Test Accuracy: 0.874\n"
     ]
    }
   ],
   "source": [
    "model = Classifier()\n",
    "criterion = nn.NLLLoss()\n",
    "optimizer = optim.Adam(model.parameters(), lr=0.003)\n",
    "\n",
    "epochs = 30 \n",
    "\n",
    "train_losses, test_losses = [], []\n",
    "for epoch in range(epochs):\n",
    "    train_loss = 0\n",
    "    \n",
    "    # Train\n",
    "    for images, labels in trainloader:\n",
    "        \n",
    "        optimizer.zero_grad()\n",
    "        \n",
    "        logps = model(images)\n",
    "        loss = criterion(logps, labels)\n",
    "        loss.backward()\n",
    "        optimizer.step()\n",
    "        \n",
    "        train_loss += loss.item()\n",
    "      \n",
    "    else:\n",
    "        test_loss = 0\n",
    "        accuracy = 0\n",
    "           \n",
    "        # Test\n",
    "        with torch.no_grad():\n",
    "            model.eval()  # turn off dropout during testing\n",
    "            for images, labels in testloader:\n",
    "                logps = model(images)\n",
    "                loss = criterion(logps, labels)\n",
    "                test_loss += loss.item()\n",
    "                \n",
    "                ps = torch.exp(logps)\n",
    "                _, top_class = ps.topk(1, dim=1)\n",
    "                equals = top_class.squeeze() == labels\n",
    "                accuracy += torch.mean(equals.type(torch.FloatTensor))\n",
    "                \n",
    "        \n",
    "        # set model back to train mode\n",
    "        model.train()\n",
    "                \n",
    "        train_losses.append(train_loss/len(trainloader))\n",
    "        test_losses.append(test_loss/len(testloader))\n",
    "        \n",
    "        print(\"Epoch: {}/{} \".format(epoch+1, epochs),\n",
    "              \"Training Loss: {:.3f} \".format(train_loss/len(trainloader)),\n",
    "              \"Test Loss: {:.3f} \".format(test_loss/len(testloader)),\n",
    "              \"Test Accuracy: {:.3f}\".format(accuracy/len(testloader)))"
   ]
  },
  {
   "cell_type": "code",
   "execution_count": 17,
   "metadata": {},
   "outputs": [
    {
     "data": {
      "image/png": "[encoded data removed]",
      "text/plain": [
       "<Figure size 432x288 with 1 Axes>"
      ]
     },
     "metadata": {
      "needs_background": "light"
     },
     "output_type": "display_data"
    }
   ],
   "source": [
    "plt.plot(train_losses, label = 'Training loss')\n",
    "plt.plot(test_losses, label = 'Validation loss')\n",
    "plt.legend()\n",
    "plt.show()"
   ]
  },
  {
   "cell_type": "markdown",
   "metadata": {},
   "source": [
    "### Inference"
   ]
  },
  {
   "cell_type": "code",
   "execution_count": 18,
   "metadata": {},
   "outputs": [
    {
     "data": {
      "image/png": "[encoded data removed]",
      "text/plain": [
       "<Figure size 432x648 with 2 Axes>"
      ]
     },
     "metadata": {
      "needs_background": "light"
     },
     "output_type": "display_data"
    }
   ],
   "source": [
    "model.eval()\n",
    "img = images[1]\n",
    "with torch.no_grad():\n",
    "    logps = model(img)\n",
    "\n",
    "ps = torch.exp(logps)\n",
    "helper.view_classify(img.view(1, 28, 28), ps, version ='Fashion')"
   ]
  },
  {
   "cell_type": "code",
   "execution_count": null,
   "metadata": {},
   "outputs": [],
   "source": []
  }
 ],
 "metadata": {
  "kernelspec": {
   "display_name": "Python 3",
   "language": "python",
   "name": "python3"
  },
  "language_info": {
   "codemirror_mode": {
    "name": "ipython",
    "version": 3
   },
   "file_extension": ".py",
   "mimetype": "text/x-python",
   "name": "python",
   "nbconvert_exporter": "python",
   "pygments_lexer": "ipython3",
   "version": "3.8.1"
  }
 },
 "nbformat": 4,
 "nbformat_minor": 2
}
