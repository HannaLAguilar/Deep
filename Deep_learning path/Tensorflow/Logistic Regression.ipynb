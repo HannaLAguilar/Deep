{
 "cells": [
  {
   "cell_type": "markdown",
   "metadata": {},
   "source": [
    "# Logistic regression in Tensorflow"
   ]
  },
  {
   "cell_type": "code",
   "execution_count": 1,
   "metadata": {},
   "outputs": [
    {
     "name": "stdout",
     "output_type": "stream",
     "text": [
      "WARNING:tensorflow:From C:\\Users\\Hanna\\Anaconda3\\lib\\site-packages\\tensorflow_core\\python\\compat\\v2_compat.py:65: disable_resource_variables (from tensorflow.python.ops.variable_scope) is deprecated and will be removed in a future version.\n",
      "Instructions for updating:\n",
      "non-resource variables are not supported in the long term\n"
     ]
    }
   ],
   "source": [
    "import tensorflow.compat.v1 as tf\n",
    "tf.disable_v2_behavior()\n",
    "\n",
    "import pandas as pd\n",
    "import numpy as np\n",
    "import time\n",
    "from sklearn.datasets import load_iris\n",
    "from sklearn.model_selection import train_test_split\n",
    "import matplotlib.pyplot as plt"
   ]
  },
  {
   "cell_type": "markdown",
   "metadata": {},
   "source": [
    "## Pre-processing data"
   ]
  },
  {
   "cell_type": "code",
   "execution_count": 2,
   "metadata": {},
   "outputs": [
    {
     "name": "stdout",
     "output_type": "stream",
     "text": [
      "<class 'sklearn.utils.Bunch'>\n",
      "Features shape: (150, 4)\n",
      "Target shape: (150,)\n"
     ]
    }
   ],
   "source": [
    "# Load from sklearn\n",
    "iris = load_iris()\n",
    "\n",
    "print(type(iris))\n",
    "print('Features shape:', iris.data.shape)\n",
    "print('Target shape:', iris.target.shape)"
   ]
  },
  {
   "cell_type": "markdown",
   "metadata": {},
   "source": [
    "**Features**"
   ]
  },
  {
   "cell_type": "code",
   "execution_count": 3,
   "metadata": {},
   "outputs": [
    {
     "data": {
      "text/html": [
       "<div>\n",
       "<style scoped>\n",
       "    .dataframe tbody tr th:only-of-type {\n",
       "        vertical-align: middle;\n",
       "    }\n",
       "\n",
       "    .dataframe tbody tr th {\n",
       "        vertical-align: top;\n",
       "    }\n",
       "\n",
       "    .dataframe thead th {\n",
       "        text-align: right;\n",
       "    }\n",
       "</style>\n",
       "<table border=\"1\" class=\"dataframe\">\n",
       "  <thead>\n",
       "    <tr style=\"text-align: right;\">\n",
       "      <th></th>\n",
       "      <th>Petal length</th>\n",
       "      <th>Petal Width</th>\n",
       "      <th>Sepal Length</th>\n",
       "      <th>Sepal Width</th>\n",
       "    </tr>\n",
       "  </thead>\n",
       "  <tbody>\n",
       "    <tr>\n",
       "      <td>0</td>\n",
       "      <td>5.1</td>\n",
       "      <td>3.5</td>\n",
       "      <td>1.4</td>\n",
       "      <td>0.2</td>\n",
       "    </tr>\n",
       "    <tr>\n",
       "      <td>1</td>\n",
       "      <td>4.9</td>\n",
       "      <td>3.0</td>\n",
       "      <td>1.4</td>\n",
       "      <td>0.2</td>\n",
       "    </tr>\n",
       "    <tr>\n",
       "      <td>2</td>\n",
       "      <td>4.7</td>\n",
       "      <td>3.2</td>\n",
       "      <td>1.3</td>\n",
       "      <td>0.2</td>\n",
       "    </tr>\n",
       "    <tr>\n",
       "      <td>3</td>\n",
       "      <td>4.6</td>\n",
       "      <td>3.1</td>\n",
       "      <td>1.5</td>\n",
       "      <td>0.2</td>\n",
       "    </tr>\n",
       "    <tr>\n",
       "      <td>4</td>\n",
       "      <td>5.0</td>\n",
       "      <td>3.6</td>\n",
       "      <td>1.4</td>\n",
       "      <td>0.2</td>\n",
       "    </tr>\n",
       "  </tbody>\n",
       "</table>\n",
       "</div>"
      ],
      "text/plain": [
       "   Petal length  Petal Width  Sepal Length  Sepal Width\n",
       "0           5.1          3.5           1.4          0.2\n",
       "1           4.9          3.0           1.4          0.2\n",
       "2           4.7          3.2           1.3          0.2\n",
       "3           4.6          3.1           1.5          0.2\n",
       "4           5.0          3.6           1.4          0.2"
      ]
     },
     "execution_count": 3,
     "metadata": {},
     "output_type": "execute_result"
    }
   ],
   "source": [
    "# Visualization with pandas\n",
    "features = pd.DataFrame(iris.data, columns=['Petal length', 'Petal Width', 'Sepal Length', 'Sepal Width'])\n",
    "features.head()"
   ]
  },
  {
   "cell_type": "markdown",
   "metadata": {},
   "source": [
    "**Target: species**\n",
    "        \n",
    "- Iris setosa: 0\n",
    "- Iris virginica: 1\n",
    "- Iris versicolor: 2"
   ]
  },
  {
   "cell_type": "code",
   "execution_count": 4,
   "metadata": {},
   "outputs": [
    {
     "data": {
      "text/html": [
       "<div>\n",
       "<style scoped>\n",
       "    .dataframe tbody tr th:only-of-type {\n",
       "        vertical-align: middle;\n",
       "    }\n",
       "\n",
       "    .dataframe tbody tr th {\n",
       "        vertical-align: top;\n",
       "    }\n",
       "\n",
       "    .dataframe thead th {\n",
       "        text-align: right;\n",
       "    }\n",
       "</style>\n",
       "<table border=\"1\" class=\"dataframe\">\n",
       "  <thead>\n",
       "    <tr style=\"text-align: right;\">\n",
       "      <th></th>\n",
       "      <th>Species</th>\n",
       "    </tr>\n",
       "  </thead>\n",
       "  <tbody>\n",
       "    <tr>\n",
       "      <td>0</td>\n",
       "      <td>0</td>\n",
       "    </tr>\n",
       "    <tr>\n",
       "      <td>1</td>\n",
       "      <td>0</td>\n",
       "    </tr>\n",
       "    <tr>\n",
       "      <td>2</td>\n",
       "      <td>0</td>\n",
       "    </tr>\n",
       "    <tr>\n",
       "      <td>3</td>\n",
       "      <td>0</td>\n",
       "    </tr>\n",
       "    <tr>\n",
       "      <td>4</td>\n",
       "      <td>0</td>\n",
       "    </tr>\n",
       "  </tbody>\n",
       "</table>\n",
       "</div>"
      ],
      "text/plain": [
       "   Species\n",
       "0        0\n",
       "1        0\n",
       "2        0\n",
       "3        0\n",
       "4        0"
      ]
     },
     "execution_count": 4,
     "metadata": {},
     "output_type": "execute_result"
    }
   ],
   "source": [
    "df_target = pd.DataFrame(iris.target, columns = ['Species'])\n",
    "df_target.head()"
   ]
  },
  {
   "cell_type": "code",
   "execution_count": 5,
   "metadata": {},
   "outputs": [
    {
     "data": {
      "text/html": [
       "<div>\n",
       "<style scoped>\n",
       "    .dataframe tbody tr th:only-of-type {\n",
       "        vertical-align: middle;\n",
       "    }\n",
       "\n",
       "    .dataframe tbody tr th {\n",
       "        vertical-align: top;\n",
       "    }\n",
       "\n",
       "    .dataframe thead th {\n",
       "        text-align: right;\n",
       "    }\n",
       "</style>\n",
       "<table border=\"1\" class=\"dataframe\">\n",
       "  <thead>\n",
       "    <tr style=\"text-align: right;\">\n",
       "      <th></th>\n",
       "      <th>Species</th>\n",
       "    </tr>\n",
       "  </thead>\n",
       "  <tbody>\n",
       "    <tr>\n",
       "      <td>145</td>\n",
       "      <td>2</td>\n",
       "    </tr>\n",
       "    <tr>\n",
       "      <td>146</td>\n",
       "      <td>2</td>\n",
       "    </tr>\n",
       "    <tr>\n",
       "      <td>147</td>\n",
       "      <td>2</td>\n",
       "    </tr>\n",
       "    <tr>\n",
       "      <td>148</td>\n",
       "      <td>2</td>\n",
       "    </tr>\n",
       "    <tr>\n",
       "      <td>149</td>\n",
       "      <td>2</td>\n",
       "    </tr>\n",
       "  </tbody>\n",
       "</table>\n",
       "</div>"
      ],
      "text/plain": [
       "     Species\n",
       "145        2\n",
       "146        2\n",
       "147        2\n",
       "148        2\n",
       "149        2"
      ]
     },
     "execution_count": 5,
     "metadata": {},
     "output_type": "execute_result"
    }
   ],
   "source": [
    "df_target.tail()"
   ]
  },
  {
   "cell_type": "markdown",
   "metadata": {},
   "source": [
    "**One-hot-encoding**"
   ]
  },
  {
   "cell_type": "code",
   "execution_count": 6,
   "metadata": {},
   "outputs": [
    {
     "data": {
      "text/plain": [
       "array([[1, 0, 0],\n",
       "       [1, 0, 0],\n",
       "       [1, 0, 0],\n",
       "       [1, 0, 0],\n",
       "       [1, 0, 0]], dtype=uint8)"
      ]
     },
     "execution_count": 6,
     "metadata": {},
     "output_type": "execute_result"
    }
   ],
   "source": [
    "# Get np.array with .values\n",
    "iris_X = features.values\n",
    "\n",
    "# One-hot-encoding using get_dummies from pandas\n",
    "iris_y = pd.get_dummies(df_target['Species']).values\n",
    "\n",
    "iris_y[0:5]"
   ]
  },
  {
   "cell_type": "markdown",
   "metadata": {},
   "source": [
    "**Train Test split**"
   ]
  },
  {
   "cell_type": "code",
   "execution_count": 7,
   "metadata": {},
   "outputs": [],
   "source": [
    "trainX, testX, trainy, testy = train_test_split(iris_X, iris_y, test_size=0.33, random_state=42)"
   ]
  },
  {
   "cell_type": "code",
   "execution_count": 8,
   "metadata": {},
   "outputs": [
    {
     "name": "stdout",
     "output_type": "stream",
     "text": [
      "Train features shape: (100, 4)\n",
      "Test features shape: (50, 4)\n"
     ]
    }
   ],
   "source": [
    "print('Train features shape:', trainX.shape)\n",
    "print('Test features shape:', testX.shape)"
   ]
  },
  {
   "cell_type": "code",
   "execution_count": 10,
   "metadata": {},
   "outputs": [
    {
     "data": {
      "text/plain": [
       "dtype('float64')"
      ]
     },
     "execution_count": 10,
     "metadata": {},
     "output_type": "execute_result"
    }
   ],
   "source": [
    "trainX.dtype"
   ]
  },
  {
   "cell_type": "code",
   "execution_count": 11,
   "metadata": {},
   "outputs": [
    {
     "data": {
      "text/plain": [
       "dtype('uint8')"
      ]
     },
     "execution_count": 11,
     "metadata": {},
     "output_type": "execute_result"
    }
   ],
   "source": [
    "trainy.dtype"
   ]
  },
  {
   "cell_type": "markdown",
   "metadata": {},
   "source": [
    "## Tensorflow model"
   ]
  },
  {
   "cell_type": "markdown",
   "metadata": {},
   "source": [
    "**Placeholders**\n"
   ]
  },
  {
   "cell_type": "code",
   "execution_count": 9,
   "metadata": {},
   "outputs": [],
   "source": [
    "numFeatures = trainX.shape[1] # = 4\n",
    "numLabels = trainy.shape[1] # = 3\n",
    "\n",
    "# 'None' means TensorFlow shouldn't expect a fixed number in that dimension\n",
    "X = tf.placeholder(tf.float32, [None, numFeatures])\n",
    "y = tf.placeholder(tf.float32, [None, numLabels])"
   ]
  },
  {
   "cell_type": "markdown",
   "metadata": {},
   "source": [
    "**Initialize W and b**"
   ]
  },
  {
   "cell_type": "code",
   "execution_count": 10,
   "metadata": {},
   "outputs": [
    {
     "name": "stdout",
     "output_type": "stream",
     "text": [
      "Weights:\n",
      " [[ 0.00097141 -0.00056427 -0.00764808]\n",
      " [-0.00275531 -0.00263027  0.01361109]\n",
      " [ 0.00304266  0.00896487 -0.01419067]\n",
      " [-0.00759915 -0.01112251 -0.00357113]]\n",
      "\n",
      "Bias:\n",
      " [[-0.00825171  0.00443344 -0.00486965]]\n"
     ]
    }
   ],
   "source": [
    "weights = tf.Variable(tf.random_normal([numFeatures, numLabels], stddev=0.01))\n",
    "bias = tf.Variable(tf.random_normal([1, numLabels], stddev=0.01))\n",
    "\n",
    "# Initialize our weights and biases variables\n",
    "init = tf.global_variables_initializer()\n",
    "sess = tf.Session()\n",
    "sess.run(init)\n",
    "\n",
    "# Visualize weights and bias\n",
    "print('Weights:\\n', sess.run(weights))\n",
    "print('\\nBias:\\n', sess.run(bias))"
   ]
  },
  {
   "cell_type": "markdown",
   "metadata": {},
   "source": [
    "**Model**\n",
    "\n",
    "$$\n",
    "ŷ =sigmoid(WX+b)\n",
    "$$\n"
   ]
  },
  {
   "cell_type": "code",
   "execution_count": 11,
   "metadata": {},
   "outputs": [],
   "source": [
    "yhat = tf.nn.sigmoid(tf.add(tf.matmul(X, weights), bias))"
   ]
  },
  {
   "cell_type": "markdown",
   "metadata": {},
   "source": [
    "**Hyperparameters**"
   ]
  },
  {
   "cell_type": "code",
   "execution_count": 12,
   "metadata": {},
   "outputs": [],
   "source": [
    "epochs = 700\n",
    "learning_rate = 0.0008"
   ]
  },
  {
   "cell_type": "markdown",
   "metadata": {},
   "source": [
    "**Loss and Optimizer**\n",
    "\n",
    "The cost function and the optimizer are the most critical definitions. I used cross entropy:\n",
    "\n",
    "\n",
    "- cross_entropy = tf.reduce_mean(-(y * tf.log(yhat) + (1 - y) * tf.log(1 - yhat)))\n",
    "\n",
    "\n",
    "And the accuracy did not change, the model did not work."
   ]
  },
  {
   "cell_type": "code",
   "execution_count": 13,
   "metadata": {},
   "outputs": [],
   "source": [
    "cost = tf.nn.l2_loss(yhat-y)\n",
    "\n",
    "optimizer = tf.train.GradientDescentOptimizer(learning_rate).minimize(cost)"
   ]
  },
  {
   "cell_type": "markdown",
   "metadata": {},
   "source": [
    "### Training"
   ]
  },
  {
   "cell_type": "markdown",
   "metadata": {},
   "source": [
    "**Acuraccy**"
   ]
  },
  {
   "cell_type": "code",
   "execution_count": 14,
   "metadata": {},
   "outputs": [],
   "source": [
    "# argmax(activation_OP, 1) returns the label with the most probability\n",
    "# argmax(yGold, 1) is the correct label\n",
    "\n",
    "correct  = tf.equal(tf.argmax(yhat,1),tf.argmax(y,1))\n",
    "accuracy = tf.reduce_mean(tf.cast(correct, 'float'))"
   ]
  },
  {
   "cell_type": "markdown",
   "metadata": {},
   "source": [
    "*Simple model*"
   ]
  },
  {
   "cell_type": "code",
   "execution_count": 15,
   "metadata": {},
   "outputs": [],
   "source": [
    "# for epoch in range(epochs):\n",
    "#     _, loss = sess.run([optimizer, cost], feed_dict={X: trainX, y: trainy})\n",
    "#     if epoch % 100 == 0:\n",
    "#         print('Epoch:', epoch,\n",
    "#               'Loss: ', loss)"
   ]
  },
  {
   "cell_type": "markdown",
   "metadata": {},
   "source": [
    "*With accuracity*"
   ]
  },
  {
   "cell_type": "code",
   "execution_count": 16,
   "metadata": {},
   "outputs": [],
   "source": [
    "# for epoch in range(epochs):\n",
    "#     _, loss_train, accuracy_train = sess.run([optimizer, cost, accuracy], feed_dict={X: trainX, y: trainy})\n",
    "#     accuracy_test = sess.run(accuracy, feed_dict={X: testX, y: testy})\n",
    "#     if epoch % 10 == 0:\n",
    "#         print('Epoch:', epoch,\n",
    "#               'Training loss: ', loss_train,\n",
    "#               'Accuracy:', accuracy_train)\n",
    "# print('Accuracy on test set:', accuracy_test)"
   ]
  },
  {
   "cell_type": "markdown",
   "metadata": {},
   "source": [
    "*With data for graphics*"
   ]
  },
  {
   "cell_type": "code",
   "execution_count": 17,
   "metadata": {},
   "outputs": [
    {
     "name": "stdout",
     "output_type": "stream",
     "text": [
      "Epoch: 0 Training loss:  37.530907 training accuracy: 0.35\n",
      "Epoch: 10 Training loss:  30.683764 training accuracy: 0.36\n",
      "Epoch: 20 Training loss:  28.640072 training accuracy: 0.65\n",
      "Epoch: 30 Training loss:  26.914568 training accuracy: 0.65\n",
      "Epoch: 40 Training loss:  25.48103 training accuracy: 0.65\n",
      "Epoch: 50 Training loss:  24.298058 training accuracy: 0.65\n",
      "Epoch: 60 Training loss:  23.320423 training accuracy: 0.65\n",
      "Epoch: 70 Training loss:  22.50729 training accuracy: 0.65\n",
      "Epoch: 80 Training loss:  21.824854 training accuracy: 0.65\n",
      "Epoch: 90 Training loss:  21.246246 training accuracy: 0.65\n",
      "Epoch: 100 Training loss:  20.750504 training accuracy: 0.65\n",
      "Epoch: 110 Training loss:  20.321377 training accuracy: 0.67\n",
      "Epoch: 120 Training loss:  19.946262 training accuracy: 0.67\n",
      "Epoch: 130 Training loss:  19.615328 training accuracy: 0.67\n",
      "Epoch: 140 Training loss:  19.320873 training accuracy: 0.67\n",
      "Epoch: 150 Training loss:  19.056793 training accuracy: 0.67\n",
      "Epoch: 160 Training loss:  18.818228 training accuracy: 0.67\n",
      "Epoch: 170 Training loss:  18.601273 training accuracy: 0.69\n",
      "Epoch: 180 Training loss:  18.402744 training accuracy: 0.7\n",
      "Epoch: 190 Training loss:  18.220062 training accuracy: 0.7\n",
      "Epoch: 200 Training loss:  18.051092 training accuracy: 0.72\n",
      "Epoch: 210 Training loss:  17.894066 training accuracy: 0.72\n",
      "Epoch: 220 Training loss:  17.747503 training accuracy: 0.74\n",
      "Epoch: 230 Training loss:  17.61016 training accuracy: 0.75\n",
      "Epoch: 240 Training loss:  17.480991 training accuracy: 0.77\n",
      "Epoch: 250 Training loss:  17.359097 training accuracy: 0.77\n",
      "Epoch: 260 Training loss:  17.243713 training accuracy: 0.79\n",
      "Epoch: 270 Training loss:  17.134182 training accuracy: 0.79\n",
      "Epoch: 280 Training loss:  17.029938 training accuracy: 0.79\n",
      "Epoch: 290 Training loss:  16.930485 training accuracy: 0.79\n",
      "Epoch: 300 Training loss:  16.835388 training accuracy: 0.79\n",
      "Epoch: 310 Training loss:  16.744276 training accuracy: 0.8\n",
      "Epoch: 320 Training loss:  16.656813 training accuracy: 0.8\n",
      "Epoch: 330 Training loss:  16.572706 training accuracy: 0.8\n",
      "Epoch: 340 Training loss:  16.491692 training accuracy: 0.81\n",
      "Epoch: 350 Training loss:  16.413546 training accuracy: 0.81\n",
      "Epoch: 360 Training loss:  16.338057 training accuracy: 0.82\n",
      "Epoch: 370 Training loss:  16.265041 training accuracy: 0.83\n",
      "Epoch: 380 Training loss:  16.194328 training accuracy: 0.83\n",
      "Epoch: 390 Training loss:  16.125774 training accuracy: 0.83\n",
      "Epoch: 400 Training loss:  16.059242 training accuracy: 0.83\n",
      "Epoch: 410 Training loss:  15.994606 training accuracy: 0.85\n",
      "Epoch: 420 Training loss:  15.931759 training accuracy: 0.85\n",
      "Epoch: 430 Training loss:  15.870596 training accuracy: 0.85\n",
      "Epoch: 440 Training loss:  15.811026 training accuracy: 0.86\n",
      "Epoch: 450 Training loss:  15.752964 training accuracy: 0.86\n",
      "Epoch: 460 Training loss:  15.696328 training accuracy: 0.87\n",
      "Epoch: 470 Training loss:  15.641056 training accuracy: 0.87\n",
      "Epoch: 480 Training loss:  15.587071 training accuracy: 0.88\n",
      "Epoch: 490 Training loss:  15.534319 training accuracy: 0.88\n",
      "Epoch: 500 Training loss:  15.48274 training accuracy: 0.89\n",
      "Epoch: 510 Training loss:  15.432285 training accuracy: 0.89\n",
      "Epoch: 520 Training loss:  15.382902 training accuracy: 0.89\n",
      "Epoch: 530 Training loss:  15.334549 training accuracy: 0.89\n",
      "Epoch: 540 Training loss:  15.287179 training accuracy: 0.89\n",
      "Epoch: 550 Training loss:  15.240756 training accuracy: 0.89\n",
      "Epoch: 560 Training loss:  15.195244 training accuracy: 0.9\n",
      "Epoch: 570 Training loss:  15.150603 training accuracy: 0.9\n",
      "Epoch: 580 Training loss:  15.10681 training accuracy: 0.9\n",
      "Epoch: 590 Training loss:  15.063825 training accuracy: 0.9\n",
      "Epoch: 600 Training loss:  15.021624 training accuracy: 0.9\n",
      "Epoch: 610 Training loss:  14.980179 training accuracy: 0.9\n",
      "Epoch: 620 Training loss:  14.939466 training accuracy: 0.91\n",
      "Epoch: 630 Training loss:  14.899458 training accuracy: 0.91\n",
      "Epoch: 640 Training loss:  14.860136 training accuracy: 0.91\n",
      "Epoch: 650 Training loss:  14.821477 training accuracy: 0.91\n",
      "Epoch: 660 Training loss:  14.783457 training accuracy: 0.91\n",
      "Epoch: 670 Training loss:  14.746059 training accuracy: 0.91\n",
      "Epoch: 680 Training loss:  14.709265 training accuracy: 0.91\n",
      "Epoch: 690 Training loss:  14.673059 training accuracy: 0.91\n",
      "Accuracy on test set: 0.92\n"
     ]
    }
   ],
   "source": [
    "train_accuracy = []\n",
    "train_losses = []\n",
    "test_losses = []\n",
    "\n",
    "for epoch in range(epochs):\n",
    "    _, loss_train, accuracy_train = sess.run([optimizer, cost, accuracy], feed_dict={X: trainX, y: trainy})\n",
    "    loss_test,accuracy_test = sess.run([cost, accuracy], feed_dict={X: testX, y: testy})\n",
    "    \n",
    "    if epoch % 10 == 0:\n",
    "        train_losses.append(loss_train)\n",
    "        test_losses.append(loss_test)\n",
    "        train_accuracy.append(accuracy_train)\n",
    "        print('Epoch:', epoch,\n",
    "              'Training loss: ', loss_train,\n",
    "              'training accuracy:', accuracy_train)\n",
    "\n",
    "print('Accuracy on test set:', accuracy_test)"
   ]
  },
  {
   "cell_type": "code",
   "execution_count": 18,
   "metadata": {},
   "outputs": [
    {
     "data": {
      "text/plain": [
       "<matplotlib.legend.Legend at 0x2472d9f7748>"
      ]
     },
     "execution_count": 18,
     "metadata": {},
     "output_type": "execute_result"
    },
    {
     "data": {
      "image/png": "[encoded data removed]",
      "text/plain": [
       "<Figure size 432x288 with 1 Axes>"
      ]
     },
     "metadata": {
      "needs_background": "light"
     },
     "output_type": "display_data"
    }
   ],
   "source": [
    "import matplotlib.pyplot as plt\n",
    "%matplotlib inline\n",
    "\n",
    "plt.plot(train_losses, label = 'Training losses')\n",
    "plt.plot(test_losses, label = 'Testing losses')\n",
    "plt.legend()"
   ]
  },
  {
   "cell_type": "code",
   "execution_count": 19,
   "metadata": {},
   "outputs": [
    {
     "data": {
      "text/plain": [
       "<matplotlib.legend.Legend at 0x2472d9b1bc8>"
      ]
     },
     "execution_count": 19,
     "metadata": {},
     "output_type": "execute_result"
    },
    {
     "data": {
      "image/png": "[encoded data removed]",
      "text/plain": [
       "<Figure size 432x288 with 1 Axes>"
      ]
     },
     "metadata": {
      "needs_background": "light"
     },
     "output_type": "display_data"
    }
   ],
   "source": [
    "plt.plot(train_accuracy, label = 'Training accuracy')\n",
    "plt.legend()"
   ]
  },
  {
   "cell_type": "markdown",
   "metadata": {},
   "source": [
    "(al principio no corría bien, cambié la función de costo y quité la estandarización (mean=0.std=1))"
   ]
  },
  {
   "cell_type": "markdown",
   "metadata": {},
   "source": [
    "**Evaluation with sigmoid function**"
   ]
  },
  {
   "cell_type": "code",
   "execution_count": 20,
   "metadata": {},
   "outputs": [
    {
     "name": "stdout",
     "output_type": "stream",
     "text": [
      "weight:\n",
      " [[ 0.24230081  0.07764875 -0.7261136 ]\n",
      " [ 0.8108393  -0.59981304 -0.6767521 ]\n",
      " [-1.281629    0.24762852  1.1131625 ]\n",
      " [-0.5798067  -0.27400658  0.85911435]] \n",
      "\n",
      "bias: [[ 0.14169301  0.11554784 -0.36163023]]\n"
     ]
    }
   ],
   "source": [
    "Ws = weights.eval(session=sess)\n",
    "bs = sess.run(bias)\n",
    "\n",
    "# Convert to float32\n",
    "trainx = np.float32(trainX)\n",
    "trainx.dtype\n",
    "\n",
    "print('weight:\\n', Ws, '\\n\\nbias:', bs)"
   ]
  },
  {
   "cell_type": "code",
   "execution_count": 21,
   "metadata": {},
   "outputs": [
    {
     "data": {
      "text/plain": [
       "array([[0.09428966, 0.37813285, 0.33828914],\n",
       "       [0.00516507, 0.4912943 , 0.77567935],\n",
       "       [0.06262347, 0.3668534 , 0.46003056],\n",
       "       [0.90930045, 0.21485406, 0.00898483],\n",
       "       [0.0041987 , 0.53620267, 0.7906431 ]], dtype=float32)"
      ]
     },
     "execution_count": 21,
     "metadata": {},
     "output_type": "execute_result"
    }
   ],
   "source": [
    "yhat = tf.nn.sigmoid(tf.add(tf.matmul(trainx, weights), bias))\n",
    "pred = sess.run(yhat)\n",
    "pred[0:5]"
   ]
  },
  {
   "cell_type": "code",
   "execution_count": 22,
   "metadata": {},
   "outputs": [
    {
     "data": {
      "text/plain": [
       "0.8107116"
      ]
     },
     "execution_count": 22,
     "metadata": {},
     "output_type": "execute_result"
    }
   ],
   "source": [
    "np.sum(pred[0]) # no tiene por qué sumar 1"
   ]
  },
  {
   "cell_type": "code",
   "execution_count": 23,
   "metadata": {},
   "outputs": [
    {
     "data": {
      "text/plain": [
       "array([1, 2, 2, 0, 2, 1, 0, 0, 0, 1, 2, 0, 0, 0, 1, 0, 1, 2, 0, 1, 2, 0,\n",
       "       2, 2, 1, 2, 2, 1, 0, 1, 2, 0, 0, 1, 2, 0, 2, 0, 0, 2, 1, 2, 2, 2,\n",
       "       2, 1, 0, 0, 2, 2, 0, 0, 0, 2, 2, 0, 2, 2, 0, 2, 1, 2, 1, 2, 0, 2,\n",
       "       1, 2, 1, 2, 1, 0, 1, 2, 0, 1, 2, 2, 0, 1, 2, 2, 0, 2, 0, 1, 2, 2,\n",
       "       1, 2, 1, 1, 2, 2, 0, 1, 2, 0, 1, 2], dtype=int64)"
      ]
     },
     "execution_count": 23,
     "metadata": {},
     "output_type": "execute_result"
    }
   ],
   "source": [
    "# Choose the value max of each row: in the first row the middle value is the highest, in the second row the third and so on \n",
    "argmax = tf.argmax(yhat,1)\n",
    "labels = sess.run(argmax)\n",
    "labels"
   ]
  },
  {
   "cell_type": "code",
   "execution_count": 24,
   "metadata": {},
   "outputs": [
    {
     "data": {
      "text/plain": [
       "array([1, 2, 1, 0, 2, 1, 0, 0, 0, 1, 2, 0, 0, 0, 1, 0, 1, 2, 0, 1, 2, 0,\n",
       "       2, 2, 1, 1, 2, 1, 0, 1, 2, 0, 0, 1, 1, 0, 2, 0, 0, 1, 1, 2, 1, 2,\n",
       "       2, 1, 0, 0, 2, 2, 0, 0, 0, 1, 2, 0, 2, 2, 0, 1, 1, 2, 1, 2, 0, 2,\n",
       "       1, 2, 1, 1, 1, 0, 1, 1, 0, 1, 2, 2, 0, 1, 2, 2, 0, 2, 0, 1, 2, 2,\n",
       "       1, 2, 1, 1, 2, 2, 0, 1, 2, 0, 1, 2], dtype=int64)"
      ]
     },
     "execution_count": 24,
     "metadata": {},
     "output_type": "execute_result"
    }
   ],
   "source": [
    "argmax = tf.argmax(trainy,1)\n",
    "labels_true = sess.run(argmax)\n",
    "labels_true"
   ]
  },
  {
   "cell_type": "markdown",
   "metadata": {},
   "source": [
    "**With Softmax function**"
   ]
  },
  {
   "cell_type": "code",
   "execution_count": 25,
   "metadata": {},
   "outputs": [
    {
     "data": {
      "text/plain": [
       "array([[8.5095398e-02, 4.9702501e-01, 4.1787961e-01],\n",
       "       [1.1722951e-03, 2.1806316e-01, 7.8076464e-01],\n",
       "       [4.4592325e-02, 3.8674539e-01, 5.6866229e-01],\n",
       "       [9.7257364e-01, 2.6546886e-02, 8.7952887e-04],\n",
       "       [8.5406908e-04, 2.3417987e-01, 7.6496607e-01]], dtype=float32)"
      ]
     },
     "execution_count": 25,
     "metadata": {},
     "output_type": "execute_result"
    }
   ],
   "source": [
    "yhat_ = tf.nn.softmax(tf.add(tf.matmul(trainx, weights), bias))\n",
    "pred_ = sess.run(yhat_)\n",
    "pred_[0:5]"
   ]
  },
  {
   "cell_type": "code",
   "execution_count": 26,
   "metadata": {},
   "outputs": [
    {
     "name": "stdout",
     "output_type": "stream",
     "text": [
      "[1.0, 1.0000001, 1.0, 1.0000001, 1.0]\n"
     ]
    }
   ],
   "source": [
    "a = []\n",
    "for i in range(len(pred_)):   \n",
    "    b = np.sum(pred_[i])\n",
    "    a.append(b)\n",
    "print(a[0:5])"
   ]
  },
  {
   "cell_type": "code",
   "execution_count": null,
   "metadata": {},
   "outputs": [],
   "source": []
  }
 ],
 "metadata": {
  "kernelspec": {
   "display_name": "Python 3",
   "language": "python",
   "name": "python3"
  },
  "language_info": {
   "codemirror_mode": {
    "name": "ipython",
    "version": 3
   },
   "file_extension": ".py",
   "mimetype": "text/x-python",
   "name": "python",
   "nbconvert_exporter": "python",
   "pygments_lexer": "ipython3",
   "version": "3.7.4"
  }
 },
 "nbformat": 4,
 "nbformat_minor": 2
}
