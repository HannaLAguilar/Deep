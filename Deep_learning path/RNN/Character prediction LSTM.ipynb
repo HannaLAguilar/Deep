{
 "cells": [
  {
   "cell_type": "markdown",
   "metadata": {},
   "source": [
    "# Character-Level LSTM in PyTorch\n",
    "\n",
    "The network will train character by character on some text, then generate new text character by character. As an example, I will train on Anna Karenina. **This model will be able to generate new text based on the text from the book!**\n",
    "\n",
    "This network is based off of Andrej Karpathy's [post on RNNs](http://karpathy.github.io/2015/05/21/rnn-effectiveness/) and [implementation in Torch](https://github.com/karpathy/char-rnn). Below is the general architecture of the character-wise RNN.\n",
    "\n",
    "<img src=\"assets/charseq.jpeg\" width=\"500\">"
   ]
  },
  {
   "cell_type": "code",
   "execution_count": 1,
   "metadata": {},
   "outputs": [],
   "source": [
    "import numpy as np\n",
    "import torch\n",
    "from torch import nn\n",
    "import torch.nn.functional as F\n",
    "\n",
    "import matplotlib.pyplot as plt\n",
    "%matplotlib inline"
   ]
  },
  {
   "cell_type": "markdown",
   "metadata": {},
   "source": [
    "## Load data"
   ]
  },
  {
   "cell_type": "code",
   "execution_count": 2,
   "metadata": {},
   "outputs": [
    {
     "name": "stdout",
     "output_type": "stream",
     "text": [
      "1985223\n",
      "Chapter 1\n",
      "\n",
      "\n",
      "Happy families are all alike; every unhappy family is unhappy in its own\n",
      "way.\n",
      "\n"
     ]
    }
   ],
   "source": [
    "# read data\n",
    "with open('data/anna.txt', 'r') as f:\n",
    "    text = f.read()\n",
    "    \n",
    "# len of data\n",
    "print(len(text))\n",
    "\n",
    "# print the first 90 characters\n",
    "print(text[:90])"
   ]
  },
  {
   "cell_type": "markdown",
   "metadata": {},
   "source": [
    "### Tokenization\n",
    "\n",
    "Create two dictionaries to convert the characters to and from integers. Encoding the characters as integers makes it easier to use as input in the network."
   ]
  },
  {
   "cell_type": "code",
   "execution_count": 3,
   "metadata": {},
   "outputs": [],
   "source": [
    "# set for uniques values and tuple for so it can't change\n",
    "chars = tuple(set(text))\n",
    "\n",
    "# maps integers to characters\n",
    "int2char = dict(enumerate(chars))\n",
    "\n",
    "# maps characters to unique integers\n",
    "char2int = {char : i for i, char in int2char.items()}\n",
    "\n",
    "# encode the text\n",
    "encoded = np.array([char2int[ch] for ch in text])\n"
   ]
  },
  {
   "cell_type": "markdown",
   "metadata": {},
   "source": [
    "And we can see those same characters from above, encoded as integers."
   ]
  },
  {
   "cell_type": "code",
   "execution_count": 4,
   "metadata": {},
   "outputs": [
    {
     "name": "stdout",
     "output_type": "stream",
     "text": [
      "[42 55 73 15 20  1 80 70 45 33 33 33 44 73 15 15 77 70 71 73  9 72 30 72\n",
      "  1 47 70 73 80  1 70 73 30 30 70 73 30 72 48  1  2 70  1 64  1 80 77 70\n",
      " 11  6 55 73 15 15 77 70 71 73  9 72 30 77 70 72 47 70 11  6 55 73 15 15\n",
      " 77 70 72  6 70 72 20 47 70 78 25  6 33 25 73 77  5 33]\n"
     ]
    }
   ],
   "source": [
    "print(encoded[:90])"
   ]
  },
  {
   "cell_type": "markdown",
   "metadata": {},
   "source": [
    "## One hot encoding"
   ]
  },
  {
   "cell_type": "code",
   "execution_count": 5,
   "metadata": {},
   "outputs": [],
   "source": [
    "def one_hot_encoding(arr, n_labels):\n",
    "    \n",
    "    # Initialize the the encoded array\n",
    "    one_hot = np.zeros((arr.size, n_labels), dtype=np.float32)\n",
    "    \n",
    "    # Fill the appropriate elements with ones\n",
    "    one_hot[np.arange(one_hot.shape[0]), arr.flatten()] = 1.\n",
    "    \n",
    "    # Finally reshape it to get back to the original array\n",
    "    one_hot = one_hot.reshape(*arr.shape, n_labels)\n",
    "    \n",
    "    return one_hot"
   ]
  },
  {
   "cell_type": "code",
   "execution_count": 6,
   "metadata": {},
   "outputs": [
    {
     "name": "stdout",
     "output_type": "stream",
     "text": [
      "[[0. 0. 0. 0. 1. 0. 0. 0.]\n",
      " [0. 0. 0. 0. 0. 0. 0. 1.]\n",
      " [0. 1. 0. 0. 0. 0. 0. 0.]]\n"
     ]
    }
   ],
   "source": [
    "test_seq = np.array([4, 7, 1])\n",
    "one_hot = one_hot_encoding(test_seq, 8)\n",
    "\n",
    "print(one_hot)"
   ]
  },
  {
   "cell_type": "markdown",
   "metadata": {},
   "source": [
    "## Training mini-batches\n",
    "\n",
    "<img src=\"assets/sequence_batching@1x.png\" width=500px>\n",
    "\n",
    "### Creating Batches\n",
    "\n",
    "**1. The first thing we need to do is discard some of the text so we only have completely full mini-batches. **\n",
    "\n",
    "Each batch contains $N \\times M$ characters, where $N$ is the batch size (the number of sequences in a batch) and $M$ is the seq_length or number of time steps in a sequence. Then, to get the total number of batches, $K$, that we can make from the array `arr`, you divide the length of `arr` by the number of characters per batch. Once you know the number of batches, you can get the total number of characters to keep from `arr`, $N * M * K$.\n",
    "\n",
    "**2. After that, we need to split `arr` into $N$ batches. ** \n",
    "\n",
    "You can do this using `arr.reshape(size)` where `size` is a tuple containing the dimensions sizes of the reshaped array. We know we want $N$ sequences in a batch, so let's make that the size of the first dimension. For the second dimension, you can use `-1` as a placeholder in the size, it'll fill up the array with the appropriate data for you. After this, you should have an array that is $N \\times (M * K)$.\n",
    "\n",
    "**3. Now that we have this array, we can iterate through it to get our mini-batches. **\n",
    "\n",
    "The idea is each batch is a $N \\times M$ window on the $N \\times (M * K)$ array. For each subsequent batch, the window moves over by `seq_length`. We also want to create both the input and target arrays. Remember that the targets are just the inputs shifted over by one character. The way I like to do this window is use `range` to take steps of size `n_steps` from $0$ to `arr.shape[1]`, the total number of tokens in each sequence. That way, the integers you get from `range` always point to the start of a batch, and each window is `seq_length` wide."
   ]
  },
  {
   "cell_type": "code",
   "execution_count": 7,
   "metadata": {},
   "outputs": [],
   "source": [
    "def get_batches(arr, batch_size, seq_length):\n",
    "    \n",
    "    # get the number of batches\n",
    "    n_batches = arr.size//(batch_size * seq_length)\n",
    "    \n",
    "    # keep only enough characters to make full batches\n",
    "    arr = arr[:n_batches * batch_size * seq_length]\n",
    "    \n",
    "    # reshape into batch_size rows\n",
    "    arr = arr.reshape(batch_size, -1)\n",
    "    \n",
    "    # iterate over the batches using a window of size seq_length\n",
    "    for n in range(0, arr.shape[1], seq_length):\n",
    "        # The features\n",
    "        x = arr[:, n:n+seq_length]\n",
    "        # The targets, shifted by one\n",
    "        y = np.zeros_like(x)\n",
    "        try:\n",
    "            y[:, :-1], y[:, -1] = x[:, 1:], arr[:, n+seq_length]\n",
    "        except IndexError:\n",
    "            y[:, :-1], y[:, -1] = x[:, 1:], arr[:, 0]\n",
    "        yield x, y"
   ]
  },
  {
   "cell_type": "code",
   "execution_count": 8,
   "metadata": {},
   "outputs": [
    {
     "name": "stdout",
     "output_type": "stream",
     "text": [
      "[ 1  2  3  4  5  6  7  8  9 10 11 12 13 14 15 16 17 18 19 20]\n",
      "x\n",
      " [[ 1  2  3]\n",
      " [10 11 12]]\n",
      "\n",
      "y\n",
      " [[ 2  3  4]\n",
      " [11 12 13]]\n"
     ]
    }
   ],
   "source": [
    "arr = np.arange(1, 21)\n",
    "print(arr)\n",
    "batches = get_batches(arr, 2, 3)\n",
    "x, y = next(batches)\n",
    "print('x\\n', x)\n",
    "print('\\ny\\n', y)"
   ]
  },
  {
   "cell_type": "code",
   "execution_count": 9,
   "metadata": {},
   "outputs": [],
   "source": [
    "batches = get_batches(encoded, 8, 50)\n",
    "x, y = next(batches)"
   ]
  },
  {
   "cell_type": "code",
   "execution_count": 10,
   "metadata": {},
   "outputs": [
    {
     "name": "stdout",
     "output_type": "stream",
     "text": [
      "x\n",
      " [[42 55 73 15 20  1 80 70 45 33]\n",
      " [47 78  6 70 20 55 73 20 70 73]\n",
      " [ 1  6 67 70 78 80 70 73 70 71]\n",
      " [47 70 20 55  1 70 49 55 72  1]\n",
      " [70 47 73 25 70 55  1 80 70 20]\n",
      " [49 11 47 47 72 78  6 70 73  6]\n",
      " [70 12  6  6 73 70 55 73 67 70]\n",
      " [62 40 30 78  6 47 48 77  5 70]]\n",
      "\n",
      "y\n",
      " [[55 73 15 20  1 80 70 45 33 33]\n",
      " [78  6 70 20 55 73 20 70 73 20]\n",
      " [ 6 67 70 78 80 70 73 70 71 78]\n",
      " [70 20 55  1 70 49 55 72  1 71]\n",
      " [47 73 25 70 55  1 80 70 20  1]\n",
      " [11 47 47 72 78  6 70 73  6 67]\n",
      " [12  6  6 73 70 55 73 67 70 47]\n",
      " [40 30 78  6 47 48 77  5 70 65]]\n"
     ]
    }
   ],
   "source": [
    "# printing out the first 10 items in a sequence\n",
    "print('x\\n', x[:, :10])\n",
    "print('\\ny\\n', y[:, :10])"
   ]
  },
  {
   "cell_type": "markdown",
   "metadata": {},
   "source": [
    "## Model Arquitecture\n",
    "\n",
    "We start by defining the layers and operations we want. Then, define a method for the forward pass. \n",
    "\n",
    "<img src=\"assets/charRNN.png\" width=500px>\n",
    "\n",
    "### LSTM Inputs/Outputs\n",
    "\n",
    "You can create a basic [LSTM layer](https://pytorch.org/docs/stable/nn.html#lstm) as follows\n",
    "\n",
    "```python\n",
    "self.lstm = nn.LSTM(input_size, n_hidden, n_layers, \n",
    "                            dropout=drop_prob, batch_first=True)\n",
    "```"
   ]
  },
  {
   "cell_type": "code",
   "execution_count": 11,
   "metadata": {},
   "outputs": [
    {
     "name": "stdout",
     "output_type": "stream",
     "text": [
      "Training on GPU!\n"
     ]
    }
   ],
   "source": [
    "train_on_gpu = torch.cuda.is_available()\n",
    "if(train_on_gpu):\n",
    "    print('Training on GPU!')\n",
    "else: \n",
    "    print('No GPU available, training on CPU.')"
   ]
  },
  {
   "cell_type": "code",
   "execution_count": 12,
   "metadata": {},
   "outputs": [],
   "source": [
    "class CharRNN(nn.Module):\n",
    "    def __init__(self, tokens, n_hidden=256, n_layers=2,\n",
    "                               drop_prob=0.5, lr=0.001):\n",
    "        super().__init__()\n",
    "        # parameters \n",
    "        self.drop_prob = drop_prob\n",
    "        self.n_layers = n_layers\n",
    "        self.n_hidden = n_hidden\n",
    "        self.lr = lr\n",
    "        \n",
    "        # character dictionaries\n",
    "        self.chars = tokens\n",
    "        self.int2char = dict(enumerate(self.chars))\n",
    "        self.char2int = {ch: i for i, ch in self.int2char.items()}\n",
    "        \n",
    "        # lstm\n",
    "        self.lstm = nn.LSTM(len(self.chars), n_hidden, n_layers, \n",
    "                            dropout=drop_prob, batch_first=True) # (batch, seq, feature)\n",
    "        # dropotlayer\n",
    "        self.dropout = nn.Dropout(drop_prob)\n",
    "        \n",
    "        # fully connected layer\n",
    "        self.fc = nn.Linear(n_hidden, len(self.chars))\n",
    "    \n",
    "    def forward(self, x, hidden):\n",
    "        \n",
    "        # raw output and hidden state(h_n and c_n) from lstm\n",
    "        r_output, hidden = self.lstm(x, hidden)\n",
    "        \n",
    "        # drop the output\n",
    "        out = self.dropout(r_output)\n",
    "                          \n",
    "        # stack up LSTM output using view\n",
    "        out = out.contiguous().view(-1, self.n_hidden)\n",
    "        \n",
    "        # fully connected layer\n",
    "        out = self.fc(out)\n",
    "                           \n",
    "        return out, hidden\n",
    "                           \n",
    "    def init_hidden(self, batch_size):\n",
    "        ''' Initializes hidden state '''\n",
    "        # Create two new tensors with sizes n_layers x batch_size x n_hidden,\n",
    "        # initialized to zero, for hidden state and cell state of LSTM\n",
    "        weight = next(self.parameters()).data\n",
    "        \n",
    "        if (train_on_gpu):\n",
    "            hidden = (weight.new(self.n_layers, batch_size, self.n_hidden).zero_().cuda(),\n",
    "                  weight.new(self.n_layers, batch_size, self.n_hidden).zero_().cuda())\n",
    "        else:\n",
    "            hidden = (weight.new(self.n_layers, batch_size, self.n_hidden).zero_(),\n",
    "                      weight.new(self.n_layers, batch_size, self.n_hidden).zero_())\n",
    "        \n",
    "        return hidden"
   ]
  },
  {
   "cell_type": "markdown",
   "metadata": {},
   "source": [
    "## Training\n",
    "\n",
    "A couple of details about training: \n",
    ">* Within the batch loop, we detach the hidden state from its history; this time setting it equal to a new *tuple* variable because an LSTM has a hidden state that is a tuple of the hidden and cell states.\n",
    "* We use [`clip_grad_norm_`](https://pytorch.org/docs/stable/_modules/torch/nn/utils/clip_grad.html) to help prevent exploding gradients."
   ]
  },
  {
   "cell_type": "code",
   "execution_count": 13,
   "metadata": {},
   "outputs": [],
   "source": [
    "def train(net, data, epochs=10, batch_size=10, seq_length=50, lr=0.001, clip=5, val_frac=0.1, print_every=10):\n",
    "    ''' Training a network \n",
    "    \n",
    "        Arguments\n",
    "        ---------\n",
    "        \n",
    "        net: CharRNN network\n",
    "        data: text data to train the network\n",
    "        epochs: Number of epochs to train\n",
    "        batch_size: Number of mini-sequences per mini-batch, aka batch size\n",
    "        seq_length: Number of character steps per mini-batch\n",
    "        lr: learning rate\n",
    "        clip: gradient clipping\n",
    "        val_frac: Fraction of data to hold out for validation\n",
    "        print_every: Number of steps for printing training and validation loss\n",
    "    \n",
    "    '''   \n",
    "    # loss and optimizer function\n",
    "    optimizer = torch.optim.Adam(net.parameters(), lr=lr)\n",
    "    criterion = nn.CrossEntropyLoss()\n",
    "    \n",
    "    # train and validation dataset\n",
    "    total_data = len(data)\n",
    "    split = int((1 - val_frac) * total_data)\n",
    "    train_data, valid_data = data[:split], data[split:]\n",
    "    \n",
    "    # gpu\n",
    "    if train_on_gpu:\n",
    "        net.cuda()\n",
    "        \n",
    "    counter = 0\n",
    "    n_chars = len(net.chars)\n",
    "    \n",
    "    for epoch in range(epochs):\n",
    "        # initialize hidden state\n",
    "        h = net.init_hidden(batch_size)\n",
    "        \n",
    "        net.train()\n",
    "        for x, y in get_batches(train_data, batch_size, seq_length):\n",
    "            counter += 1\n",
    "            \n",
    "            # one hot encoding\n",
    "            x = one_hot_encoding(x, n_chars)\n",
    "            \n",
    "            # change to torch tensor\n",
    "            inputs, targets = torch.from_numpy(x), torch.from_numpy(y)\n",
    "            \n",
    "            # gpu\n",
    "            if train_on_gpu:\n",
    "                inputs, targets = inputs.cuda(), targets.cuda()\n",
    "                \n",
    "            # creating new variables for the hidden state, otherwise\n",
    "            # we'd backprop through the entire training history\n",
    "            h = tuple([each.data for each in h])\n",
    "            \n",
    "            # brackpropagation\n",
    "            net.zero_grad()\n",
    "            output, h = net(inputs, h)\n",
    "            loss = criterion(output, targets.view(batch_size*seq_length).long())\n",
    "            loss.backward()\n",
    "            # clip_grad_norm\n",
    "            nn.utils.clip_grad_norm_(net.parameters(), clip)\n",
    "            optimizer.step()\n",
    "            \n",
    "            if counter % print_every == 0:\n",
    "                net.eval()\n",
    "                val_h = net.init_hidden(batch_size)\n",
    "                val_losses = []\n",
    "                for x, y in get_batches(valid_data, batch_size, seq_length):\n",
    "                    # one hot encoding\n",
    "                    x = one_hot_encoding(x, n_chars)\n",
    "\n",
    "                    # change to torch tensor\n",
    "                    inputs, targets = torch.from_numpy(x), torch.from_numpy(y)\n",
    "\n",
    "                    # gpu\n",
    "                    if train_on_gpu:\n",
    "                        inputs, targets = inputs.cuda(), targets.cuda()\n",
    "\n",
    "                    # creating new variables for the hidden state, otherwise\n",
    "                    # we'd backprop through the entire training history\n",
    "                    val_h = tuple([each.data for each in val_h])\n",
    "                    \n",
    "                    output, val_h = net(inputs, val_h)\n",
    "                    val_loss = criterion(output, targets.view(batch_size*seq_length).long())\n",
    "                    \n",
    "                    val_losses.append(val_loss.item())\n",
    "                \n",
    "                net.train()\n",
    "                \n",
    "                print(\"Epoch: {}/{}...\".format(epoch+1, epochs),\n",
    "                      \"Step: {}...\".format(counter),\n",
    "                      \"Loss: {:.4f}...\".format(loss.item()),\n",
    "                      \"Val Loss: {:.4f}\".format(np.mean(val_losses)))\n"
   ]
  },
  {
   "cell_type": "markdown",
   "metadata": {},
   "source": [
    "## Instantiating the model"
   ]
  },
  {
   "cell_type": "code",
   "execution_count": 14,
   "metadata": {},
   "outputs": [
    {
     "name": "stdout",
     "output_type": "stream",
     "text": [
      "CharRNN(\n",
      "  (lstm): LSTM(83, 512, num_layers=2, batch_first=True, dropout=0.5)\n",
      "  (dropout): Dropout(p=0.5, inplace=False)\n",
      "  (fc): Linear(in_features=512, out_features=83, bias=True)\n",
      ")\n"
     ]
    }
   ],
   "source": [
    "# define and print the net\n",
    "n_hidden=512\n",
    "n_layers=2\n",
    "\n",
    "net = CharRNN(chars, n_hidden, n_layers)\n",
    "print(net)"
   ]
  },
  {
   "cell_type": "code",
   "execution_count": 15,
   "metadata": {},
   "outputs": [
    {
     "name": "stdout",
     "output_type": "stream",
     "text": [
      "Epoch: 1/20... Step: 10... Loss: 3.2486... Val Loss: 3.1719\n",
      "Epoch: 1/20... Step: 20... Loss: 3.1504... Val Loss: 3.1301\n",
      "Epoch: 1/20... Step: 30... Loss: 3.1419... Val Loss: 3.1200\n",
      "Epoch: 1/20... Step: 40... Loss: 3.1102... Val Loss: 3.1180\n",
      "Epoch: 1/20... Step: 50... Loss: 3.1375... Val Loss: 3.1157\n",
      "Epoch: 1/20... Step: 60... Loss: 3.1123... Val Loss: 3.1110\n",
      "Epoch: 1/20... Step: 70... Loss: 3.0937... Val Loss: 3.1014\n",
      "Epoch: 1/20... Step: 80... Loss: 3.0915... Val Loss: 3.0772\n",
      "Epoch: 1/20... Step: 90... Loss: 3.0407... Val Loss: 3.0160\n",
      "Epoch: 1/20... Step: 100... Loss: 2.9547... Val Loss: 2.9279\n",
      "Epoch: 1/20... Step: 110... Loss: 2.8478... Val Loss: 2.8357\n",
      "Epoch: 1/20... Step: 120... Loss: 2.7156... Val Loss: 2.7061\n",
      "Epoch: 1/20... Step: 130... Loss: 2.6492... Val Loss: 2.5948\n",
      "Epoch: 2/20... Step: 140... Loss: 2.5803... Val Loss: 2.5238\n",
      "Epoch: 2/20... Step: 150... Loss: 2.5199... Val Loss: 2.4774\n",
      "Epoch: 2/20... Step: 160... Loss: 2.4729... Val Loss: 2.4363\n",
      "Epoch: 2/20... Step: 170... Loss: 2.4203... Val Loss: 2.3962\n",
      "Epoch: 2/20... Step: 180... Loss: 2.3919... Val Loss: 2.3721\n",
      "Epoch: 2/20... Step: 190... Loss: 2.3518... Val Loss: 2.3483\n",
      "Epoch: 2/20... Step: 200... Loss: 2.3367... Val Loss: 2.3077\n",
      "Epoch: 2/20... Step: 210... Loss: 2.3008... Val Loss: 2.2774\n",
      "Epoch: 2/20... Step: 220... Loss: 2.2735... Val Loss: 2.2478\n",
      "Epoch: 2/20... Step: 230... Loss: 2.2600... Val Loss: 2.2275\n",
      "Epoch: 2/20... Step: 240... Loss: 2.2491... Val Loss: 2.2033\n",
      "Epoch: 2/20... Step: 250... Loss: 2.1760... Val Loss: 2.1775\n",
      "Epoch: 2/20... Step: 260... Loss: 2.1590... Val Loss: 2.1575\n",
      "Epoch: 2/20... Step: 270... Loss: 2.1656... Val Loss: 2.1341\n",
      "Epoch: 3/20... Step: 280... Loss: 2.1745... Val Loss: 2.1151\n",
      "Epoch: 3/20... Step: 290... Loss: 2.1286... Val Loss: 2.0924\n",
      "Epoch: 3/20... Step: 300... Loss: 2.0949... Val Loss: 2.0731\n",
      "Epoch: 3/20... Step: 310... Loss: 2.0761... Val Loss: 2.0559\n",
      "Epoch: 3/20... Step: 320... Loss: 2.0463... Val Loss: 2.0367\n",
      "Epoch: 3/20... Step: 330... Loss: 2.0304... Val Loss: 2.0253\n",
      "Epoch: 3/20... Step: 340... Loss: 2.0513... Val Loss: 2.0032\n",
      "Epoch: 3/20... Step: 350... Loss: 2.0290... Val Loss: 1.9876\n",
      "Epoch: 3/20... Step: 360... Loss: 1.9639... Val Loss: 1.9752\n",
      "Epoch: 3/20... Step: 370... Loss: 1.9879... Val Loss: 1.9561\n",
      "Epoch: 3/20... Step: 380... Loss: 1.9771... Val Loss: 1.9417\n",
      "Epoch: 3/20... Step: 390... Loss: 1.9521... Val Loss: 1.9272\n",
      "Epoch: 3/20... Step: 400... Loss: 1.9157... Val Loss: 1.9141\n",
      "Epoch: 3/20... Step: 410... Loss: 1.9301... Val Loss: 1.9014\n",
      "Epoch: 4/20... Step: 420... Loss: 1.9271... Val Loss: 1.8893\n",
      "Epoch: 4/20... Step: 430... Loss: 1.9084... Val Loss: 1.8732\n",
      "Epoch: 4/20... Step: 440... Loss: 1.8954... Val Loss: 1.8677\n",
      "Epoch: 4/20... Step: 450... Loss: 1.8406... Val Loss: 1.8494\n",
      "Epoch: 4/20... Step: 460... Loss: 1.8248... Val Loss: 1.8413\n",
      "Epoch: 4/20... Step: 470... Loss: 1.8603... Val Loss: 1.8330\n",
      "Epoch: 4/20... Step: 480... Loss: 1.8441... Val Loss: 1.8167\n",
      "Epoch: 4/20... Step: 490... Loss: 1.8562... Val Loss: 1.8089\n",
      "Epoch: 4/20... Step: 500... Loss: 1.8372... Val Loss: 1.7964\n",
      "Epoch: 4/20... Step: 510... Loss: 1.8187... Val Loss: 1.7844\n",
      "Epoch: 4/20... Step: 520... Loss: 1.8351... Val Loss: 1.7792\n",
      "Epoch: 4/20... Step: 530... Loss: 1.7884... Val Loss: 1.7697\n",
      "Epoch: 4/20... Step: 540... Loss: 1.7590... Val Loss: 1.7577\n",
      "Epoch: 4/20... Step: 550... Loss: 1.8052... Val Loss: 1.7477\n",
      "Epoch: 5/20... Step: 560... Loss: 1.7621... Val Loss: 1.7414\n",
      "Epoch: 5/20... Step: 570... Loss: 1.7571... Val Loss: 1.7305\n",
      "Epoch: 5/20... Step: 580... Loss: 1.7336... Val Loss: 1.7242\n",
      "Epoch: 5/20... Step: 590... Loss: 1.7305... Val Loss: 1.7141\n",
      "Epoch: 5/20... Step: 600... Loss: 1.7196... Val Loss: 1.7041\n",
      "Epoch: 5/20... Step: 610... Loss: 1.7066... Val Loss: 1.7012\n",
      "Epoch: 5/20... Step: 620... Loss: 1.7080... Val Loss: 1.6935\n",
      "Epoch: 5/20... Step: 630... Loss: 1.7278... Val Loss: 1.6836\n",
      "Epoch: 5/20... Step: 640... Loss: 1.6965... Val Loss: 1.6801\n",
      "Epoch: 5/20... Step: 650... Loss: 1.6778... Val Loss: 1.6699\n",
      "Epoch: 5/20... Step: 660... Loss: 1.6518... Val Loss: 1.6718\n",
      "Epoch: 5/20... Step: 670... Loss: 1.6905... Val Loss: 1.6562\n",
      "Epoch: 5/20... Step: 680... Loss: 1.6812... Val Loss: 1.6487\n",
      "Epoch: 5/20... Step: 690... Loss: 1.6558... Val Loss: 1.6460\n",
      "Epoch: 6/20... Step: 700... Loss: 1.6684... Val Loss: 1.6390\n",
      "Epoch: 6/20... Step: 710... Loss: 1.6451... Val Loss: 1.6329\n",
      "Epoch: 6/20... Step: 720... Loss: 1.6315... Val Loss: 1.6255\n",
      "Epoch: 6/20... Step: 730... Loss: 1.6564... Val Loss: 1.6223\n",
      "Epoch: 6/20... Step: 740... Loss: 1.6067... Val Loss: 1.6141\n",
      "Epoch: 6/20... Step: 750... Loss: 1.6012... Val Loss: 1.6089\n",
      "Epoch: 6/20... Step: 760... Loss: 1.6375... Val Loss: 1.6049\n",
      "Epoch: 6/20... Step: 770... Loss: 1.6188... Val Loss: 1.6016\n",
      "Epoch: 6/20... Step: 780... Loss: 1.5988... Val Loss: 1.5948\n",
      "Epoch: 6/20... Step: 790... Loss: 1.5899... Val Loss: 1.5924\n",
      "Epoch: 6/20... Step: 800... Loss: 1.6041... Val Loss: 1.5846\n",
      "Epoch: 6/20... Step: 810... Loss: 1.5842... Val Loss: 1.5779\n",
      "Epoch: 6/20... Step: 820... Loss: 1.5540... Val Loss: 1.5747\n",
      "Epoch: 6/20... Step: 830... Loss: 1.5985... Val Loss: 1.5709\n",
      "Epoch: 7/20... Step: 840... Loss: 1.5516... Val Loss: 1.5626\n",
      "Epoch: 7/20... Step: 850... Loss: 1.5754... Val Loss: 1.5613\n",
      "Epoch: 7/20... Step: 860... Loss: 1.5573... Val Loss: 1.5550\n",
      "Epoch: 7/20... Step: 870... Loss: 1.5577... Val Loss: 1.5525\n",
      "Epoch: 7/20... Step: 880... Loss: 1.5638... Val Loss: 1.5490\n",
      "Epoch: 7/20... Step: 890... Loss: 1.5723... Val Loss: 1.5466\n",
      "Epoch: 7/20... Step: 900... Loss: 1.5422... Val Loss: 1.5410\n",
      "Epoch: 7/20... Step: 910... Loss: 1.5076... Val Loss: 1.5399\n",
      "Epoch: 7/20... Step: 920... Loss: 1.5372... Val Loss: 1.5332\n",
      "Epoch: 7/20... Step: 930... Loss: 1.5293... Val Loss: 1.5278\n",
      "Epoch: 7/20... Step: 940... Loss: 1.5284... Val Loss: 1.5294\n",
      "Epoch: 7/20... Step: 950... Loss: 1.5373... Val Loss: 1.5201\n",
      "Epoch: 7/20... Step: 960... Loss: 1.5385... Val Loss: 1.5264\n",
      "Epoch: 7/20... Step: 970... Loss: 1.5412... Val Loss: 1.5193\n",
      "Epoch: 8/20... Step: 980... Loss: 1.5090... Val Loss: 1.5105\n",
      "Epoch: 8/20... Step: 990... Loss: 1.5167... Val Loss: 1.5112\n",
      "Epoch: 8/20... Step: 1000... Loss: 1.5072... Val Loss: 1.5023\n",
      "Epoch: 8/20... Step: 1010... Loss: 1.5387... Val Loss: 1.5023\n",
      "Epoch: 8/20... Step: 1020... Loss: 1.5185... Val Loss: 1.4976\n",
      "Epoch: 8/20... Step: 1030... Loss: 1.4986... Val Loss: 1.4998\n",
      "Epoch: 8/20... Step: 1040... Loss: 1.5181... Val Loss: 1.4916\n",
      "Epoch: 8/20... Step: 1050... Loss: 1.4925... Val Loss: 1.4917\n",
      "Epoch: 8/20... Step: 1060... Loss: 1.4950... Val Loss: 1.4873\n",
      "Epoch: 8/20... Step: 1070... Loss: 1.5007... Val Loss: 1.4831\n",
      "Epoch: 8/20... Step: 1080... Loss: 1.4903... Val Loss: 1.4812\n",
      "Epoch: 8/20... Step: 1090... Loss: 1.4831... Val Loss: 1.4771\n",
      "Epoch: 8/20... Step: 1100... Loss: 1.4619... Val Loss: 1.4770\n",
      "Epoch: 8/20... Step: 1110... Loss: 1.4753... Val Loss: 1.4735\n",
      "Epoch: 9/20... Step: 1120... Loss: 1.4864... Val Loss: 1.4709\n",
      "Epoch: 9/20... Step: 1130... Loss: 1.4730... Val Loss: 1.4666\n",
      "Epoch: 9/20... Step: 1140... Loss: 1.4852... Val Loss: 1.4646\n",
      "Epoch: 9/20... Step: 1150... Loss: 1.4906... Val Loss: 1.4621\n",
      "Epoch: 9/20... Step: 1160... Loss: 1.4468... Val Loss: 1.4618\n",
      "Epoch: 9/20... Step: 1170... Loss: 1.4598... Val Loss: 1.4588\n",
      "Epoch: 9/20... Step: 1180... Loss: 1.4456... Val Loss: 1.4584\n",
      "Epoch: 9/20... Step: 1190... Loss: 1.4800... Val Loss: 1.4521\n",
      "Epoch: 9/20... Step: 1200... Loss: 1.4347... Val Loss: 1.4531\n",
      "Epoch: 9/20... Step: 1210... Loss: 1.4421... Val Loss: 1.4467\n",
      "Epoch: 9/20... Step: 1220... Loss: 1.4380... Val Loss: 1.4477\n",
      "Epoch: 9/20... Step: 1230... Loss: 1.4278... Val Loss: 1.4441\n",
      "Epoch: 9/20... Step: 1240... Loss: 1.4249... Val Loss: 1.4392\n",
      "Epoch: 9/20... Step: 1250... Loss: 1.4380... Val Loss: 1.4370\n",
      "Epoch: 10/20... Step: 1260... Loss: 1.4436... Val Loss: 1.4401\n",
      "Epoch: 10/20... Step: 1270... Loss: 1.4381... Val Loss: 1.4344\n",
      "Epoch: 10/20... Step: 1280... Loss: 1.4484... Val Loss: 1.4305\n",
      "Epoch: 10/20... Step: 1290... Loss: 1.4359... Val Loss: 1.4304\n",
      "Epoch: 10/20... Step: 1300... Loss: 1.4283... Val Loss: 1.4283\n",
      "Epoch: 10/20... Step: 1310... Loss: 1.4316... Val Loss: 1.4270\n",
      "Epoch: 10/20... Step: 1320... Loss: 1.4133... Val Loss: 1.4273\n",
      "Epoch: 10/20... Step: 1330... Loss: 1.4050... Val Loss: 1.4218\n"
     ]
    },
    {
     "name": "stdout",
     "output_type": "stream",
     "text": [
      "Epoch: 10/20... Step: 1340... Loss: 1.4003... Val Loss: 1.4194\n",
      "Epoch: 10/20... Step: 1350... Loss: 1.3831... Val Loss: 1.4163\n",
      "Epoch: 10/20... Step: 1360... Loss: 1.4008... Val Loss: 1.4174\n",
      "Epoch: 10/20... Step: 1370... Loss: 1.3809... Val Loss: 1.4148\n",
      "Epoch: 10/20... Step: 1380... Loss: 1.4151... Val Loss: 1.4139\n",
      "Epoch: 10/20... Step: 1390... Loss: 1.4294... Val Loss: 1.4120\n",
      "Epoch: 11/20... Step: 1400... Loss: 1.4322... Val Loss: 1.4121\n",
      "Epoch: 11/20... Step: 1410... Loss: 1.4467... Val Loss: 1.4088\n",
      "Epoch: 11/20... Step: 1420... Loss: 1.4309... Val Loss: 1.4068\n",
      "Epoch: 11/20... Step: 1430... Loss: 1.3879... Val Loss: 1.4093\n",
      "Epoch: 11/20... Step: 1440... Loss: 1.4204... Val Loss: 1.4032\n",
      "Epoch: 11/20... Step: 1450... Loss: 1.3496... Val Loss: 1.4036\n",
      "Epoch: 11/20... Step: 1460... Loss: 1.3791... Val Loss: 1.4057\n",
      "Epoch: 11/20... Step: 1470... Loss: 1.3704... Val Loss: 1.4018\n",
      "Epoch: 11/20... Step: 1480... Loss: 1.3880... Val Loss: 1.3964\n",
      "Epoch: 11/20... Step: 1490... Loss: 1.3840... Val Loss: 1.3952\n",
      "Epoch: 11/20... Step: 1500... Loss: 1.3630... Val Loss: 1.3959\n",
      "Epoch: 11/20... Step: 1510... Loss: 1.3445... Val Loss: 1.3966\n",
      "Epoch: 11/20... Step: 1520... Loss: 1.3799... Val Loss: 1.3918\n",
      "Epoch: 12/20... Step: 1530... Loss: 1.4350... Val Loss: 1.3926\n",
      "Epoch: 12/20... Step: 1540... Loss: 1.3849... Val Loss: 1.3906\n",
      "Epoch: 12/20... Step: 1550... Loss: 1.3890... Val Loss: 1.3866\n",
      "Epoch: 12/20... Step: 1560... Loss: 1.4035... Val Loss: 1.3859\n",
      "Epoch: 12/20... Step: 1570... Loss: 1.3621... Val Loss: 1.3873\n",
      "Epoch: 12/20... Step: 1580... Loss: 1.3386... Val Loss: 1.3872\n",
      "Epoch: 12/20... Step: 1590... Loss: 1.3233... Val Loss: 1.3842\n",
      "Epoch: 12/20... Step: 1600... Loss: 1.3558... Val Loss: 1.3843\n",
      "Epoch: 12/20... Step: 1610... Loss: 1.3515... Val Loss: 1.3828\n",
      "Epoch: 12/20... Step: 1620... Loss: 1.3513... Val Loss: 1.3799\n",
      "Epoch: 12/20... Step: 1630... Loss: 1.3729... Val Loss: 1.3766\n",
      "Epoch: 12/20... Step: 1640... Loss: 1.3386... Val Loss: 1.3771\n",
      "Epoch: 12/20... Step: 1650... Loss: 1.3211... Val Loss: 1.3765\n",
      "Epoch: 12/20... Step: 1660... Loss: 1.3790... Val Loss: 1.3727\n",
      "Epoch: 13/20... Step: 1670... Loss: 1.3511... Val Loss: 1.3709\n",
      "Epoch: 13/20... Step: 1680... Loss: 1.3543... Val Loss: 1.3691\n",
      "Epoch: 13/20... Step: 1690... Loss: 1.3387... Val Loss: 1.3695\n",
      "Epoch: 13/20... Step: 1700... Loss: 1.3332... Val Loss: 1.3656\n",
      "Epoch: 13/20... Step: 1710... Loss: 1.3159... Val Loss: 1.3690\n",
      "Epoch: 13/20... Step: 1720... Loss: 1.3233... Val Loss: 1.3694\n",
      "Epoch: 13/20... Step: 1730... Loss: 1.3689... Val Loss: 1.3663\n",
      "Epoch: 13/20... Step: 1740... Loss: 1.3312... Val Loss: 1.3699\n",
      "Epoch: 13/20... Step: 1750... Loss: 1.2974... Val Loss: 1.3682\n",
      "Epoch: 13/20... Step: 1760... Loss: 1.3334... Val Loss: 1.3641\n",
      "Epoch: 13/20... Step: 1770... Loss: 1.3449... Val Loss: 1.3595\n",
      "Epoch: 13/20... Step: 1780... Loss: 1.3166... Val Loss: 1.3612\n",
      "Epoch: 13/20... Step: 1790... Loss: 1.3111... Val Loss: 1.3602\n",
      "Epoch: 13/20... Step: 1800... Loss: 1.3367... Val Loss: 1.3577\n",
      "Epoch: 14/20... Step: 1810... Loss: 1.3406... Val Loss: 1.3615\n",
      "Epoch: 14/20... Step: 1820... Loss: 1.3163... Val Loss: 1.3547\n",
      "Epoch: 14/20... Step: 1830... Loss: 1.3490... Val Loss: 1.3550\n",
      "Epoch: 14/20... Step: 1840... Loss: 1.2822... Val Loss: 1.3556\n",
      "Epoch: 14/20... Step: 1850... Loss: 1.2682... Val Loss: 1.3544\n",
      "Epoch: 14/20... Step: 1860... Loss: 1.3449... Val Loss: 1.3541\n",
      "Epoch: 14/20... Step: 1870... Loss: 1.3358... Val Loss: 1.3523\n",
      "Epoch: 14/20... Step: 1880... Loss: 1.3183... Val Loss: 1.3562\n",
      "Epoch: 14/20... Step: 1890... Loss: 1.3440... Val Loss: 1.3516\n",
      "Epoch: 14/20... Step: 1900... Loss: 1.3174... Val Loss: 1.3486\n",
      "Epoch: 14/20... Step: 1910... Loss: 1.3086... Val Loss: 1.3446\n",
      "Epoch: 14/20... Step: 1920... Loss: 1.3175... Val Loss: 1.3475\n",
      "Epoch: 14/20... Step: 1930... Loss: 1.2770... Val Loss: 1.3439\n",
      "Epoch: 14/20... Step: 1940... Loss: 1.3355... Val Loss: 1.3442\n",
      "Epoch: 15/20... Step: 1950... Loss: 1.3041... Val Loss: 1.3427\n",
      "Epoch: 15/20... Step: 1960... Loss: 1.3089... Val Loss: 1.3419\n",
      "Epoch: 15/20... Step: 1970... Loss: 1.2940... Val Loss: 1.3421\n",
      "Epoch: 15/20... Step: 1980... Loss: 1.2874... Val Loss: 1.3416\n",
      "Epoch: 15/20... Step: 1990... Loss: 1.2945... Val Loss: 1.3399\n",
      "Epoch: 15/20... Step: 2000... Loss: 1.2840... Val Loss: 1.3427\n",
      "Epoch: 15/20... Step: 2010... Loss: 1.2954... Val Loss: 1.3398\n",
      "Epoch: 15/20... Step: 2020... Loss: 1.3104... Val Loss: 1.3456\n",
      "Epoch: 15/20... Step: 2030... Loss: 1.2859... Val Loss: 1.3406\n",
      "Epoch: 15/20... Step: 2040... Loss: 1.2958... Val Loss: 1.3363\n",
      "Epoch: 15/20... Step: 2050... Loss: 1.2807... Val Loss: 1.3295\n",
      "Epoch: 15/20... Step: 2060... Loss: 1.2957... Val Loss: 1.3360\n",
      "Epoch: 15/20... Step: 2070... Loss: 1.3008... Val Loss: 1.3368\n",
      "Epoch: 15/20... Step: 2080... Loss: 1.3015... Val Loss: 1.3354\n",
      "Epoch: 16/20... Step: 2090... Loss: 1.3073... Val Loss: 1.3325\n",
      "Epoch: 16/20... Step: 2100... Loss: 1.2854... Val Loss: 1.3308\n",
      "Epoch: 16/20... Step: 2110... Loss: 1.2761... Val Loss: 1.3304\n",
      "Epoch: 16/20... Step: 2120... Loss: 1.2982... Val Loss: 1.3309\n",
      "Epoch: 16/20... Step: 2130... Loss: 1.2671... Val Loss: 1.3326\n",
      "Epoch: 16/20... Step: 2140... Loss: 1.2774... Val Loss: 1.3289\n",
      "Epoch: 16/20... Step: 2150... Loss: 1.3089... Val Loss: 1.3290\n",
      "Epoch: 16/20... Step: 2160... Loss: 1.2774... Val Loss: 1.3341\n",
      "Epoch: 16/20... Step: 2170... Loss: 1.2820... Val Loss: 1.3292\n",
      "Epoch: 16/20... Step: 2180... Loss: 1.2703... Val Loss: 1.3259\n",
      "Epoch: 16/20... Step: 2190... Loss: 1.2964... Val Loss: 1.3244\n",
      "Epoch: 16/20... Step: 2200... Loss: 1.2710... Val Loss: 1.3250\n",
      "Epoch: 16/20... Step: 2210... Loss: 1.2355... Val Loss: 1.3213\n",
      "Epoch: 16/20... Step: 2220... Loss: 1.2775... Val Loss: 1.3217\n",
      "Epoch: 17/20... Step: 2230... Loss: 1.2631... Val Loss: 1.3213\n",
      "Epoch: 17/20... Step: 2240... Loss: 1.2694... Val Loss: 1.3228\n",
      "Epoch: 17/20... Step: 2250... Loss: 1.2494... Val Loss: 1.3208\n",
      "Epoch: 17/20... Step: 2260... Loss: 1.2611... Val Loss: 1.3214\n",
      "Epoch: 17/20... Step: 2270... Loss: 1.2659... Val Loss: 1.3225\n",
      "Epoch: 17/20... Step: 2280... Loss: 1.2845... Val Loss: 1.3203\n",
      "Epoch: 17/20... Step: 2290... Loss: 1.2758... Val Loss: 1.3213\n",
      "Epoch: 17/20... Step: 2300... Loss: 1.2383... Val Loss: 1.3241\n",
      "Epoch: 17/20... Step: 2310... Loss: 1.2568... Val Loss: 1.3182\n",
      "Epoch: 17/20... Step: 2320... Loss: 1.2527... Val Loss: 1.3164\n",
      "Epoch: 17/20... Step: 2330... Loss: 1.2574... Val Loss: 1.3170\n",
      "Epoch: 17/20... Step: 2340... Loss: 1.2720... Val Loss: 1.3143\n",
      "Epoch: 17/20... Step: 2350... Loss: 1.2767... Val Loss: 1.3149\n",
      "Epoch: 17/20... Step: 2360... Loss: 1.2749... Val Loss: 1.3157\n",
      "Epoch: 18/20... Step: 2370... Loss: 1.2570... Val Loss: 1.3147\n",
      "Epoch: 18/20... Step: 2380... Loss: 1.2573... Val Loss: 1.3146\n",
      "Epoch: 18/20... Step: 2390... Loss: 1.2492... Val Loss: 1.3144\n",
      "Epoch: 18/20... Step: 2400... Loss: 1.2872... Val Loss: 1.3131\n",
      "Epoch: 18/20... Step: 2410... Loss: 1.2635... Val Loss: 1.3133\n",
      "Epoch: 18/20... Step: 2420... Loss: 1.2510... Val Loss: 1.3056\n",
      "Epoch: 18/20... Step: 2430... Loss: 1.2647... Val Loss: 1.3117\n",
      "Epoch: 18/20... Step: 2440... Loss: 1.2499... Val Loss: 1.3181\n",
      "Epoch: 18/20... Step: 2450... Loss: 1.2420... Val Loss: 1.3086\n",
      "Epoch: 18/20... Step: 2460... Loss: 1.2590... Val Loss: 1.3082\n",
      "Epoch: 18/20... Step: 2470... Loss: 1.2533... Val Loss: 1.3087\n",
      "Epoch: 18/20... Step: 2480... Loss: 1.2423... Val Loss: 1.3069\n",
      "Epoch: 18/20... Step: 2490... Loss: 1.2365... Val Loss: 1.3040\n",
      "Epoch: 18/20... Step: 2500... Loss: 1.2398... Val Loss: 1.3062\n",
      "Epoch: 19/20... Step: 2510... Loss: 1.2535... Val Loss: 1.2996\n",
      "Epoch: 19/20... Step: 2520... Loss: 1.2597... Val Loss: 1.3056\n",
      "Epoch: 19/20... Step: 2530... Loss: 1.2699... Val Loss: 1.3042\n",
      "Epoch: 19/20... Step: 2540... Loss: 1.2697... Val Loss: 1.3041\n",
      "Epoch: 19/20... Step: 2550... Loss: 1.2397... Val Loss: 1.2987\n",
      "Epoch: 19/20... Step: 2560... Loss: 1.2435... Val Loss: 1.2984\n",
      "Epoch: 19/20... Step: 2570... Loss: 1.2377... Val Loss: 1.2990\n",
      "Epoch: 19/20... Step: 2580... Loss: 1.2623... Val Loss: 1.3009\n",
      "Epoch: 19/20... Step: 2590... Loss: 1.2319... Val Loss: 1.2964\n",
      "Epoch: 19/20... Step: 2600... Loss: 1.2276... Val Loss: 1.2938\n",
      "Epoch: 19/20... Step: 2610... Loss: 1.2372... Val Loss: 1.2998\n",
      "Epoch: 19/20... Step: 2620... Loss: 1.2187... Val Loss: 1.2930\n",
      "Epoch: 19/20... Step: 2630... Loss: 1.2168... Val Loss: 1.2905\n"
     ]
    },
    {
     "name": "stdout",
     "output_type": "stream",
     "text": [
      "Epoch: 19/20... Step: 2640... Loss: 1.2320... Val Loss: 1.2933\n",
      "Epoch: 20/20... Step: 2650... Loss: 1.2340... Val Loss: 1.2908\n",
      "Epoch: 20/20... Step: 2660... Loss: 1.2301... Val Loss: 1.2925\n",
      "Epoch: 20/20... Step: 2670... Loss: 1.2490... Val Loss: 1.2920\n",
      "Epoch: 20/20... Step: 2680... Loss: 1.2416... Val Loss: 1.2948\n",
      "Epoch: 20/20... Step: 2690... Loss: 1.2313... Val Loss: 1.2908\n",
      "Epoch: 20/20... Step: 2700... Loss: 1.2359... Val Loss: 1.2881\n",
      "Epoch: 20/20... Step: 2710... Loss: 1.2164... Val Loss: 1.2861\n",
      "Epoch: 20/20... Step: 2720... Loss: 1.2064... Val Loss: 1.2952\n",
      "Epoch: 20/20... Step: 2730... Loss: 1.2003... Val Loss: 1.2855\n",
      "Epoch: 20/20... Step: 2740... Loss: 1.2051... Val Loss: 1.2812\n",
      "Epoch: 20/20... Step: 2750... Loss: 1.2016... Val Loss: 1.2830\n",
      "Epoch: 20/20... Step: 2760... Loss: 1.1898... Val Loss: 1.2810\n",
      "Epoch: 20/20... Step: 2770... Loss: 1.2351... Val Loss: 1.2831\n",
      "Epoch: 20/20... Step: 2780... Loss: 1.2598... Val Loss: 1.2844\n"
     ]
    }
   ],
   "source": [
    "batch_size = 128\n",
    "seq_length = 100\n",
    "n_epochs = 20 # start smaller if you are just testing initial behavior\n",
    "\n",
    "# train the model\n",
    "train(net, encoded, epochs=n_epochs, batch_size=batch_size, seq_length=seq_length, lr=0.001)"
   ]
  },
  {
   "cell_type": "markdown",
   "metadata": {},
   "source": [
    "## Checkpoint\n",
    "\n",
    "After training, we'll save the model so we can load it again later if we need too. Here I'm saving the parameters needed to create the same architecture, the hidden layer hyperparameters and the text characters."
   ]
  },
  {
   "cell_type": "code",
   "execution_count": 17,
   "metadata": {},
   "outputs": [],
   "source": [
    "model_name = 'rnn_20_epoch.net'\n",
    "\n",
    "checkpoint = {'n_hidden': net.n_hidden,\n",
    "              'n_layers': net.n_layers,\n",
    "              'state_dict': net.state_dict(),\n",
    "              'tokens': net.chars}\n",
    "\n",
    "with open(model_name, 'wb') as f:\n",
    "    torch.save(checkpoint, f)"
   ]
  },
  {
   "cell_type": "markdown",
   "metadata": {},
   "source": [
    "## Making Predictions\n",
    "\n",
    "Now that the model is trained, we'll want to sample from it and make predictions about next characters! To sample, we pass in a character and have the network predict the next character. Then we take that character, pass it back in, and get another predicted character. Just keep doing this and you'll generate a bunch of text!\n",
    "\n",
    "### Top K sampling\n",
    "\n",
    "Our predictions come from a categorical probability distribution over all the possible characters. We can make the sample text and make it more reasonable to handle (with less variables) by only considering some $K$ most probable characters."
   ]
  },
  {
   "cell_type": "code",
   "execution_count": 16,
   "metadata": {},
   "outputs": [],
   "source": [
    "def predict(net, char, h=None, top_k=None):\n",
    "    \n",
    "    # tensor inputs\n",
    "    x = np.array([[net.char2int[char]]])\n",
    "    x = one_hot_encode(x, len(net.chars))\n",
    "    inputs = torch.from_numpy(x)\n",
    "    \n",
    "    if train_on_gpu:\n",
    "        inputs = inputs.cuda()\n",
    "        \n",
    "    # detach hidden state from history    \n",
    "    h = tuple([each.data for each in h])\n",
    "    # get output and h of the model\n",
    "    out, h = net(inputs, h)\n",
    "    \n",
    "    # characters probabilities\n",
    "    p = F.softmax(out, dim=1).data\n",
    "    \n",
    "    # move to cpu\n",
    "    if train_on_gpu:\n",
    "        p = p.cpu()\n",
    "    \n",
    "    # top characters\n",
    "    if top_k == None:\n",
    "        top_ch = np.arange(len(net.chars))\n",
    "    else:\n",
    "        p, top_ch = p.topk(top_k)\n",
    "        top_ch = top_ch.numpy().squeeze()\n",
    "        \n",
    "    # select the likely next character with some element of randomness\n",
    "    p = p.numpy().squeeze()\n",
    "    char = np.random.choice(top_ch, p = p/p.sum())\n",
    "    \n",
    "    return net.int2char[char], h"
   ]
  },
  {
   "cell_type": "markdown",
   "metadata": {},
   "source": [
    "### Priming and generating text \n",
    "\n",
    "Typically you'll want to prime the network so you can build up a hidden state. Otherwise the network will start out generating characters at random. In general the first bunch of characters will be a little rough since it hasn't built up a long history of characters to predict from."
   ]
  },
  {
   "cell_type": "code",
   "execution_count": 31,
   "metadata": {},
   "outputs": [],
   "source": [
    "def sample(net, size, prime='The', top_k=None):\n",
    "        \n",
    "    if(train_on_gpu):\n",
    "        net.cuda()\n",
    "    else:\n",
    "        net.cpu()\n",
    "    \n",
    "    net.eval()  \n",
    "    \n",
    "    # First off, run through the prime characters\n",
    "    chars = [ch for ch in prime]\n",
    "    h = net.init_hidden(batch_size=1)\n",
    "    \n",
    "    for ch in prime:\n",
    "        char, h = predict(net, ch, h, top_k=top_k)\n",
    "\n",
    "    chars.append(char)\n",
    "    \n",
    "    # Now pass in the previous character and get a new one\n",
    "    for ii in range(size):\n",
    "        char, h = predict(net, chars[-1], h, top_k=top_k)\n",
    "        chars.append(char)\n",
    "\n",
    "    return ''.join(chars)"
   ]
  },
  {
   "cell_type": "code",
   "execution_count": 32,
   "metadata": {},
   "outputs": [
    {
     "name": "stdout",
     "output_type": "stream",
     "text": [
      "Anna's hat, and the\n",
      "stoll moner and to business the first rest of the same and timidly\n",
      "but a feeling and he could not come again to her when\n",
      "he had been consupped the sears of his heatte that he felt to\n",
      "hear her\n",
      "condition in and contented to the packs and some\n",
      "throwing to the precentious face to her shame at the matter\n",
      "without the strange formers of health. But the conscinused his\n",
      "strange study was at first that it was a stand of a secretary times when\n",
      "he said himself, and would she was steps and with all\n",
      "the time with his face in his shade and tried to carried it..\n",
      "\n",
      "\"I cannot tell you what I cunder thas sending their money?\"\n",
      "said Anna and was still the point\n",
      "they heard a little time, and she would have succeeded in a stipport, taking the day of her sister.\n",
      "\n",
      "\"To be anything?\" he asked. \"In an arranger was\n",
      "to make her hand, and the passons, as a cropd of herself\n",
      "in any sonds, and he could not care.\n",
      "I've atried the same and stopper. What have they\n",
      "were silent. And these steps as he so most.\n",
      "\n",
      "\n"
     ]
    }
   ],
   "source": [
    "print(sample(net, 1000, prime='Anna', top_k=5))"
   ]
  },
  {
   "cell_type": "markdown",
   "metadata": {},
   "source": [
    "## Loading a checkpoint"
   ]
  },
  {
   "cell_type": "code",
   "execution_count": 22,
   "metadata": {},
   "outputs": [
    {
     "data": {
      "text/plain": [
       "<All keys matched successfully>"
      ]
     },
     "execution_count": 22,
     "metadata": {},
     "output_type": "execute_result"
    }
   ],
   "source": [
    "with open('rnn_20_epoch.net', 'rb') as f:\n",
    "    checkpoint = torch.load(f)\n",
    "    \n",
    "loaded = CharRNN(checkpoint['tokens'], n_hidden=checkpoint['n_hidden'], n_layers=checkpoint['n_layers'])\n",
    "loaded.load_state_dict(checkpoint['state_dict'])"
   ]
  },
  {
   "cell_type": "code",
   "execution_count": 33,
   "metadata": {},
   "outputs": [
    {
     "name": "stdout",
     "output_type": "stream",
     "text": [
      "Vronsky said to\n",
      "the position of the children with his ward, and so sorry\n",
      "that he was asleep and husband there was so supposed. He had not conceuted, he cared\n",
      "her son. That\n",
      "should not see the carreating of his words, and that wealthen should see\n",
      "him, that it wanted to set find the pecture, and the\n",
      "plants of his whole performed smowing smile, the merched he would say\n",
      "to him, and he felt that to stor all of the fact of his happant on the stroages to his\n",
      "would be done, and at the this of the portraie though he had been because a fore\n",
      "then and seeing her she was seriling. And at the fact of\n",
      "his shoulder stocking his beis of the same face, and he saw side that he figured him stopping\n",
      "to and seemed to this, and showing in the conversation, they were silent in\n",
      "the figure,\n",
      "and that he had been a luster. Bow were consequent face, that him to\n",
      "the particular world there was no disconfestion, but that they came to\n",
      "be tried to cale to her. The same\n",
      "side of the music was not in things. And the contrary to the\n",
      "sam\n"
     ]
    }
   ],
   "source": [
    "print(sample(loaded, 1000, prime='Vronsky said', top_k=5))"
   ]
  },
  {
   "cell_type": "code",
   "execution_count": null,
   "metadata": {},
   "outputs": [],
   "source": []
  }
 ],
 "metadata": {
  "kernelspec": {
   "display_name": "Python 3",
   "language": "python",
   "name": "python3"
  },
  "language_info": {
   "codemirror_mode": {
    "name": "ipython",
    "version": 3
   },
   "file_extension": ".py",
   "mimetype": "text/x-python",
   "name": "python",
   "nbconvert_exporter": "python",
   "pygments_lexer": "ipython3",
   "version": "3.7.4"
  }
 },
 "nbformat": 4,
 "nbformat_minor": 2
}
